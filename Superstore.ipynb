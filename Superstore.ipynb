{
  "nbformat": 4,
  "nbformat_minor": 0,
  "metadata": {
    "colab": {
      "provenance": []
    },
    "kernelspec": {
      "name": "python3",
      "display_name": "Python 3"
    },
    "language_info": {
      "name": "python"
    }
  },
  "cells": [
    {
      "cell_type": "markdown",
      "source": [
        "#Richmore Dzanza\n",
        "\n",
        "##Technical Assessment\n",
        "\n",
        "#PROJECT : Furniture Shop SALES FORECASTING:\n",
        "\n",
        "# 1. Business Understanding \n",
        "##Introduction:\n",
        "In this analysis, a Cross-Industry Standard Process for Data Mining (CRISP-DM) was followed as a base to develop a prediction model for the forecasting of sales of a superstore furniture shop. The superstore's data is used in order to validate the use of the various machine learning algorithms. Two Machine Learning Algorithms were built, in comparison, which are Random Forest Regression and Decision Tree. The regression Tree perfoms better than the random forest in this analysis with a Root Mean Squared Error(RMSE) of 15,6.\n"
      ],
      "metadata": {
        "id": "319yOPweYRQx"
      }
    },
    {
      "cell_type": "markdown",
      "source": [
        "#2. Data Understanding"
      ],
      "metadata": {
        "id": "3WX5KTHWxfm-"
      }
    },
    {
      "cell_type": "code",
      "execution_count": 65,
      "metadata": {
        "id": "NbysaDcdVw5W"
      },
      "outputs": [],
      "source": [
        "\n",
        "# importing libraries\n",
        "import numpy as np\n",
        "import pandas as pd\n",
        "\n",
        "\n",
        "import matplotlib.pyplot as plt\n",
        "import seaborn as sns\n",
        "from pandas_profiling import ProfileReport \n",
        "import math  \n",
        "import sklearn.metrics  \n",
        "\n",
        "%matplotlib inline\n",
        "\n",
        "import datetime"
      ]
    },
    {
      "cell_type": "markdown",
      "source": [
        "## Import the dataset"
      ],
      "metadata": {
        "id": "xBFbJiChmJ6x"
      }
    },
    {
      "cell_type": "code",
      "source": [
        "data = pd.read_excel('/Superstore.xlsx')\n",
        "\n"
      ],
      "metadata": {
        "id": "lDN2_YOlXQJT"
      },
      "execution_count": 8,
      "outputs": []
    },
    {
      "cell_type": "markdown",
      "source": [
        "##Filter the required Category 'Furniture'"
      ],
      "metadata": {
        "id": "kpy_JoGimQxb"
      }
    },
    {
      "cell_type": "code",
      "source": [
        "\n",
        "fsalesdata= data[data[\"Category\"] == 'Furniture']"
      ],
      "metadata": {
        "id": "zDfZGBLsCjle"
      },
      "execution_count": 9,
      "outputs": []
    },
    {
      "cell_type": "markdown",
      "source": [
        "##Exploratory Data Analysis (EDA)\n",
        "## Data Information"
      ],
      "metadata": {
        "id": "q6D6lsm0miQP"
      }
    },
    {
      "cell_type": "code",
      "source": [
        "fsalesdata.info()"
      ],
      "metadata": {
        "colab": {
          "base_uri": "https://localhost:8080/"
        },
        "id": "v_uLNy5-lxQe",
        "outputId": "e0e1fdd5-037c-4ca2-a2d2-59021074507d"
      },
      "execution_count": 10,
      "outputs": [
        {
          "output_type": "stream",
          "name": "stdout",
          "text": [
            "<class 'pandas.core.frame.DataFrame'>\n",
            "Int64Index: 2121 entries, 0 to 9990\n",
            "Data columns (total 21 columns):\n",
            " #   Column         Non-Null Count  Dtype         \n",
            "---  ------         --------------  -----         \n",
            " 0   Row ID         2121 non-null   int64         \n",
            " 1   Order ID       2121 non-null   object        \n",
            " 2   Order Date     2121 non-null   datetime64[ns]\n",
            " 3   Ship Date      2121 non-null   datetime64[ns]\n",
            " 4   Ship Mode      2121 non-null   object        \n",
            " 5   Customer ID    2121 non-null   object        \n",
            " 6   Customer Name  2121 non-null   object        \n",
            " 7   Segment        2121 non-null   object        \n",
            " 8   Country        2121 non-null   object        \n",
            " 9   City           2121 non-null   object        \n",
            " 10  State          2121 non-null   object        \n",
            " 11  Postal Code    2121 non-null   int64         \n",
            " 12  Region         2121 non-null   object        \n",
            " 13  Product ID     2121 non-null   object        \n",
            " 14  Category       2121 non-null   object        \n",
            " 15  Sub-Category   2121 non-null   object        \n",
            " 16  Product Name   2121 non-null   object        \n",
            " 17  Sales          2121 non-null   float64       \n",
            " 18  Quantity       2121 non-null   int64         \n",
            " 19  Discount       2121 non-null   float64       \n",
            " 20  Profit         2121 non-null   float64       \n",
            "dtypes: datetime64[ns](2), float64(3), int64(3), object(13)\n",
            "memory usage: 364.5+ KB\n"
          ]
        }
      ]
    },
    {
      "cell_type": "markdown",
      "source": [
        "There are 2121 observations in the data and 21 columns, with only 4 float variables"
      ],
      "metadata": {
        "id": "a-h2sACxnU9O"
      }
    },
    {
      "cell_type": "markdown",
      "source": [
        "##Check for Duplicates"
      ],
      "metadata": {
        "id": "htledoBOnIKi"
      }
    },
    {
      "cell_type": "code",
      "source": [
        "fsalesdata.duplicated().sum()"
      ],
      "metadata": {
        "colab": {
          "base_uri": "https://localhost:8080/"
        },
        "id": "PnzCUnKQnMik",
        "outputId": "38103906-13bf-4552-d7af-5a5c7b7f878d"
      },
      "execution_count": 85,
      "outputs": [
        {
          "output_type": "execute_result",
          "data": {
            "text/plain": [
              "0"
            ]
          },
          "metadata": {},
          "execution_count": 85
        }
      ]
    },
    {
      "cell_type": "markdown",
      "source": [
        "There are no duplicates in the data"
      ],
      "metadata": {
        "id": "QZK0WtP4nQCj"
      }
    },
    {
      "cell_type": "markdown",
      "source": [
        "## Sales per Region"
      ],
      "metadata": {
        "id": "ozxb8H0Xnx8x"
      }
    },
    {
      "cell_type": "code",
      "source": [
        "# Let's see sales per Region:\n",
        "\n",
        "def sales_per_region(fsalesdata):\n",
        "    sales_by_region = fsalesdata.groupby('Region')['Sales'].sum().reset_index()\n",
        "    \n",
        "    fig, ax = plt.subplots(figsize=(8,6))\n",
        "    sns.barplot(sales_by_region.Region, sales_by_region.Sales, color='darkred')\n",
        "    \n",
        "    ax.set(xlabel = \"Region\", ylabel = \"Sum of Sales\", title = \"Total Sales Per Region\")\n",
        "    \n",
        "    return sales_by_region"
      ],
      "metadata": {
        "id": "QQrUhIXunwou"
      },
      "execution_count": 34,
      "outputs": []
    },
    {
      "cell_type": "code",
      "source": [
        "sales_per_region(fsalesdata)"
      ],
      "metadata": {
        "colab": {
          "base_uri": "https://localhost:8080/",
          "height": 616
        },
        "id": "kS0id8SRmxN-",
        "outputId": "9a00c641-9826-4d74-ffe4-5929642ecf0b"
      },
      "execution_count": 37,
      "outputs": [
        {
          "output_type": "stream",
          "name": "stderr",
          "text": [
            "/usr/local/lib/python3.7/dist-packages/seaborn/_decorators.py:43: FutureWarning: Pass the following variables as keyword args: x, y. From version 0.12, the only valid positional argument will be `data`, and passing other arguments without an explicit keyword will result in an error or misinterpretation.\n",
            "  FutureWarning\n"
          ]
        },
        {
          "output_type": "execute_result",
          "data": {
            "text/plain": [
              "    Region        Sales\n",
              "0  Central  163797.1638\n",
              "1     East  208291.2040\n",
              "2    South  117298.6840\n",
              "3     West  252612.7435"
            ],
            "text/html": [
              "\n",
              "  <div id=\"df-2cdc0596-c36c-4311-a5da-4d0e11c69fdc\">\n",
              "    <div class=\"colab-df-container\">\n",
              "      <div>\n",
              "<style scoped>\n",
              "    .dataframe tbody tr th:only-of-type {\n",
              "        vertical-align: middle;\n",
              "    }\n",
              "\n",
              "    .dataframe tbody tr th {\n",
              "        vertical-align: top;\n",
              "    }\n",
              "\n",
              "    .dataframe thead th {\n",
              "        text-align: right;\n",
              "    }\n",
              "</style>\n",
              "<table border=\"1\" class=\"dataframe\">\n",
              "  <thead>\n",
              "    <tr style=\"text-align: right;\">\n",
              "      <th></th>\n",
              "      <th>Region</th>\n",
              "      <th>Sales</th>\n",
              "    </tr>\n",
              "  </thead>\n",
              "  <tbody>\n",
              "    <tr>\n",
              "      <th>0</th>\n",
              "      <td>Central</td>\n",
              "      <td>163797.1638</td>\n",
              "    </tr>\n",
              "    <tr>\n",
              "      <th>1</th>\n",
              "      <td>East</td>\n",
              "      <td>208291.2040</td>\n",
              "    </tr>\n",
              "    <tr>\n",
              "      <th>2</th>\n",
              "      <td>South</td>\n",
              "      <td>117298.6840</td>\n",
              "    </tr>\n",
              "    <tr>\n",
              "      <th>3</th>\n",
              "      <td>West</td>\n",
              "      <td>252612.7435</td>\n",
              "    </tr>\n",
              "  </tbody>\n",
              "</table>\n",
              "</div>\n",
              "      <button class=\"colab-df-convert\" onclick=\"convertToInteractive('df-2cdc0596-c36c-4311-a5da-4d0e11c69fdc')\"\n",
              "              title=\"Convert this dataframe to an interactive table.\"\n",
              "              style=\"display:none;\">\n",
              "        \n",
              "  <svg xmlns=\"http://www.w3.org/2000/svg\" height=\"24px\"viewBox=\"0 0 24 24\"\n",
              "       width=\"24px\">\n",
              "    <path d=\"M0 0h24v24H0V0z\" fill=\"none\"/>\n",
              "    <path d=\"M18.56 5.44l.94 2.06.94-2.06 2.06-.94-2.06-.94-.94-2.06-.94 2.06-2.06.94zm-11 1L8.5 8.5l.94-2.06 2.06-.94-2.06-.94L8.5 2.5l-.94 2.06-2.06.94zm10 10l.94 2.06.94-2.06 2.06-.94-2.06-.94-.94-2.06-.94 2.06-2.06.94z\"/><path d=\"M17.41 7.96l-1.37-1.37c-.4-.4-.92-.59-1.43-.59-.52 0-1.04.2-1.43.59L10.3 9.45l-7.72 7.72c-.78.78-.78 2.05 0 2.83L4 21.41c.39.39.9.59 1.41.59.51 0 1.02-.2 1.41-.59l7.78-7.78 2.81-2.81c.8-.78.8-2.07 0-2.86zM5.41 20L4 18.59l7.72-7.72 1.47 1.35L5.41 20z\"/>\n",
              "  </svg>\n",
              "      </button>\n",
              "      \n",
              "  <style>\n",
              "    .colab-df-container {\n",
              "      display:flex;\n",
              "      flex-wrap:wrap;\n",
              "      gap: 12px;\n",
              "    }\n",
              "\n",
              "    .colab-df-convert {\n",
              "      background-color: #E8F0FE;\n",
              "      border: none;\n",
              "      border-radius: 50%;\n",
              "      cursor: pointer;\n",
              "      display: none;\n",
              "      fill: #1967D2;\n",
              "      height: 32px;\n",
              "      padding: 0 0 0 0;\n",
              "      width: 32px;\n",
              "    }\n",
              "\n",
              "    .colab-df-convert:hover {\n",
              "      background-color: #E2EBFA;\n",
              "      box-shadow: 0px 1px 2px rgba(60, 64, 67, 0.3), 0px 1px 3px 1px rgba(60, 64, 67, 0.15);\n",
              "      fill: #174EA6;\n",
              "    }\n",
              "\n",
              "    [theme=dark] .colab-df-convert {\n",
              "      background-color: #3B4455;\n",
              "      fill: #D2E3FC;\n",
              "    }\n",
              "\n",
              "    [theme=dark] .colab-df-convert:hover {\n",
              "      background-color: #434B5C;\n",
              "      box-shadow: 0px 1px 3px 1px rgba(0, 0, 0, 0.15);\n",
              "      filter: drop-shadow(0px 1px 2px rgba(0, 0, 0, 0.3));\n",
              "      fill: #FFFFFF;\n",
              "    }\n",
              "  </style>\n",
              "\n",
              "      <script>\n",
              "        const buttonEl =\n",
              "          document.querySelector('#df-2cdc0596-c36c-4311-a5da-4d0e11c69fdc button.colab-df-convert');\n",
              "        buttonEl.style.display =\n",
              "          google.colab.kernel.accessAllowed ? 'block' : 'none';\n",
              "\n",
              "        async function convertToInteractive(key) {\n",
              "          const element = document.querySelector('#df-2cdc0596-c36c-4311-a5da-4d0e11c69fdc');\n",
              "          const dataTable =\n",
              "            await google.colab.kernel.invokeFunction('convertToInteractive',\n",
              "                                                     [key], {});\n",
              "          if (!dataTable) return;\n",
              "\n",
              "          const docLinkHtml = 'Like what you see? Visit the ' +\n",
              "            '<a target=\"_blank\" href=https://colab.research.google.com/notebooks/data_table.ipynb>data table notebook</a>'\n",
              "            + ' to learn more about interactive tables.';\n",
              "          element.innerHTML = '';\n",
              "          dataTable['output_type'] = 'display_data';\n",
              "          await google.colab.output.renderOutput(dataTable, element);\n",
              "          const docLink = document.createElement('div');\n",
              "          docLink.innerHTML = docLinkHtml;\n",
              "          element.appendChild(docLink);\n",
              "        }\n",
              "      </script>\n",
              "    </div>\n",
              "  </div>\n",
              "  "
            ]
          },
          "metadata": {},
          "execution_count": 37
        },
        {
          "output_type": "display_data",
          "data": {
            "text/plain": [
              "<Figure size 576x432 with 1 Axes>"
            ],
            "image/png": "[encoded data removed]"
          },
          "metadata": {
            "needs_background": "light"
          }
        }
      ]
    },
    {
      "cell_type": "markdown",
      "source": [
        "Furniture shop is maxmising sales from the West Region and getting the lowest in the South Region."
      ],
      "metadata": {
        "id": "fGzjAm0xqtBb"
      }
    },
    {
      "cell_type": "markdown",
      "source": [
        "## Ploting Sales over time in days"
      ],
      "metadata": {
        "id": "8R1YbPJ7rIgf"
      }
    },
    {
      "cell_type": "code",
      "source": [
        "df = fsalesdata[['Order Date', 'Sales']]\n",
        "df"
      ],
      "metadata": {
        "colab": {
          "base_uri": "https://localhost:8080/",
          "height": 424
        },
        "id": "YcFB-jw1ssAf",
        "outputId": "a6f2dac1-6eb5-4ec9-afcc-6487badc9505"
      },
      "execution_count": 38,
      "outputs": [
        {
          "output_type": "execute_result",
          "data": {
            "text/plain": [
              "     Order Date      Sales\n",
              "0    2016-11-08   261.9600\n",
              "1    2016-11-08   731.9400\n",
              "3    2015-10-11   957.5775\n",
              "5    2014-06-09    48.8600\n",
              "10   2014-06-09  1706.1840\n",
              "...         ...        ...\n",
              "9962 2015-03-19   383.4656\n",
              "9964 2016-12-05    13.4000\n",
              "9980 2015-09-06    85.9800\n",
              "9989 2014-01-21    25.2480\n",
              "9990 2017-02-26    91.9600\n",
              "\n",
              "[2121 rows x 2 columns]"
            ],
            "text/html": [
              "\n",
              "  <div id=\"df-eb0050cd-38d9-4fa4-9482-5bbde5437f37\">\n",
              "    <div class=\"colab-df-container\">\n",
              "      <div>\n",
              "<style scoped>\n",
              "    .dataframe tbody tr th:only-of-type {\n",
              "        vertical-align: middle;\n",
              "    }\n",
              "\n",
              "    .dataframe tbody tr th {\n",
              "        vertical-align: top;\n",
              "    }\n",
              "\n",
              "    .dataframe thead th {\n",
              "        text-align: right;\n",
              "    }\n",
              "</style>\n",
              "<table border=\"1\" class=\"dataframe\">\n",
              "  <thead>\n",
              "    <tr style=\"text-align: right;\">\n",
              "      <th></th>\n",
              "      <th>Order Date</th>\n",
              "      <th>Sales</th>\n",
              "    </tr>\n",
              "  </thead>\n",
              "  <tbody>\n",
              "    <tr>\n",
              "      <th>0</th>\n",
              "      <td>2016-11-08</td>\n",
              "      <td>261.9600</td>\n",
              "    </tr>\n",
              "    <tr>\n",
              "      <th>1</th>\n",
              "      <td>2016-11-08</td>\n",
              "      <td>731.9400</td>\n",
              "    </tr>\n",
              "    <tr>\n",
              "      <th>3</th>\n",
              "      <td>2015-10-11</td>\n",
              "      <td>957.5775</td>\n",
              "    </tr>\n",
              "    <tr>\n",
              "      <th>5</th>\n",
              "      <td>2014-06-09</td>\n",
              "      <td>48.8600</td>\n",
              "    </tr>\n",
              "    <tr>\n",
              "      <th>10</th>\n",
              "      <td>2014-06-09</td>\n",
              "      <td>1706.1840</td>\n",
              "    </tr>\n",
              "    <tr>\n",
              "      <th>...</th>\n",
              "      <td>...</td>\n",
              "      <td>...</td>\n",
              "    </tr>\n",
              "    <tr>\n",
              "      <th>9962</th>\n",
              "      <td>2015-03-19</td>\n",
              "      <td>383.4656</td>\n",
              "    </tr>\n",
              "    <tr>\n",
              "      <th>9964</th>\n",
              "      <td>2016-12-05</td>\n",
              "      <td>13.4000</td>\n",
              "    </tr>\n",
              "    <tr>\n",
              "      <th>9980</th>\n",
              "      <td>2015-09-06</td>\n",
              "      <td>85.9800</td>\n",
              "    </tr>\n",
              "    <tr>\n",
              "      <th>9989</th>\n",
              "      <td>2014-01-21</td>\n",
              "      <td>25.2480</td>\n",
              "    </tr>\n",
              "    <tr>\n",
              "      <th>9990</th>\n",
              "      <td>2017-02-26</td>\n",
              "      <td>91.9600</td>\n",
              "    </tr>\n",
              "  </tbody>\n",
              "</table>\n",
              "<p>2121 rows × 2 columns</p>\n",
              "</div>\n",
              "      <button class=\"colab-df-convert\" onclick=\"convertToInteractive('df-eb0050cd-38d9-4fa4-9482-5bbde5437f37')\"\n",
              "              title=\"Convert this dataframe to an interactive table.\"\n",
              "              style=\"display:none;\">\n",
              "        \n",
              "  <svg xmlns=\"http://www.w3.org/2000/svg\" height=\"24px\"viewBox=\"0 0 24 24\"\n",
              "       width=\"24px\">\n",
              "    <path d=\"M0 0h24v24H0V0z\" fill=\"none\"/>\n",
              "    <path d=\"M18.56 5.44l.94 2.06.94-2.06 2.06-.94-2.06-.94-.94-2.06-.94 2.06-2.06.94zm-11 1L8.5 8.5l.94-2.06 2.06-.94-2.06-.94L8.5 2.5l-.94 2.06-2.06.94zm10 10l.94 2.06.94-2.06 2.06-.94-2.06-.94-.94-2.06-.94 2.06-2.06.94z\"/><path d=\"M17.41 7.96l-1.37-1.37c-.4-.4-.92-.59-1.43-.59-.52 0-1.04.2-1.43.59L10.3 9.45l-7.72 7.72c-.78.78-.78 2.05 0 2.83L4 21.41c.39.39.9.59 1.41.59.51 0 1.02-.2 1.41-.59l7.78-7.78 2.81-2.81c.8-.78.8-2.07 0-2.86zM5.41 20L4 18.59l7.72-7.72 1.47 1.35L5.41 20z\"/>\n",
              "  </svg>\n",
              "      </button>\n",
              "      \n",
              "  <style>\n",
              "    .colab-df-container {\n",
              "      display:flex;\n",
              "      flex-wrap:wrap;\n",
              "      gap: 12px;\n",
              "    }\n",
              "\n",
              "    .colab-df-convert {\n",
              "      background-color: #E8F0FE;\n",
              "      border: none;\n",
              "      border-radius: 50%;\n",
              "      cursor: pointer;\n",
              "      display: none;\n",
              "      fill: #1967D2;\n",
              "      height: 32px;\n",
              "      padding: 0 0 0 0;\n",
              "      width: 32px;\n",
              "    }\n",
              "\n",
              "    .colab-df-convert:hover {\n",
              "      background-color: #E2EBFA;\n",
              "      box-shadow: 0px 1px 2px rgba(60, 64, 67, 0.3), 0px 1px 3px 1px rgba(60, 64, 67, 0.15);\n",
              "      fill: #174EA6;\n",
              "    }\n",
              "\n",
              "    [theme=dark] .colab-df-convert {\n",
              "      background-color: #3B4455;\n",
              "      fill: #D2E3FC;\n",
              "    }\n",
              "\n",
              "    [theme=dark] .colab-df-convert:hover {\n",
              "      background-color: #434B5C;\n",
              "      box-shadow: 0px 1px 3px 1px rgba(0, 0, 0, 0.15);\n",
              "      filter: drop-shadow(0px 1px 2px rgba(0, 0, 0, 0.3));\n",
              "      fill: #FFFFFF;\n",
              "    }\n",
              "  </style>\n",
              "\n",
              "      <script>\n",
              "        const buttonEl =\n",
              "          document.querySelector('#df-eb0050cd-38d9-4fa4-9482-5bbde5437f37 button.colab-df-convert');\n",
              "        buttonEl.style.display =\n",
              "          google.colab.kernel.accessAllowed ? 'block' : 'none';\n",
              "\n",
              "        async function convertToInteractive(key) {\n",
              "          const element = document.querySelector('#df-eb0050cd-38d9-4fa4-9482-5bbde5437f37');\n",
              "          const dataTable =\n",
              "            await google.colab.kernel.invokeFunction('convertToInteractive',\n",
              "                                                     [key], {});\n",
              "          if (!dataTable) return;\n",
              "\n",
              "          const docLinkHtml = 'Like what you see? Visit the ' +\n",
              "            '<a target=\"_blank\" href=https://colab.research.google.com/notebooks/data_table.ipynb>data table notebook</a>'\n",
              "            + ' to learn more about interactive tables.';\n",
              "          element.innerHTML = '';\n",
              "          dataTable['output_type'] = 'display_data';\n",
              "          await google.colab.output.renderOutput(dataTable, element);\n",
              "          const docLink = document.createElement('div');\n",
              "          docLink.innerHTML = docLinkHtml;\n",
              "          element.appendChild(docLink);\n",
              "        }\n",
              "      </script>\n",
              "    </div>\n",
              "  </div>\n",
              "  "
            ]
          },
          "metadata": {},
          "execution_count": 38
        }
      ]
    },
    {
      "cell_type": "code",
      "source": [
        "# Visualizing the Sales patterns in the data.\n",
        "plt.figure(figsize=(16,8))\n",
        "plt.title('Furniture')\n",
        "plt.xlabel('Days')\n",
        "plt.ylabel('Sales')\n",
        "plt.plot(df['Sales'])\n",
        "plt.show()"
      ],
      "metadata": {
        "colab": {
          "base_uri": "https://localhost:8080/",
          "height": 513
        },
        "id": "LjtqKxMrtU4Q",
        "outputId": "cf05291c-3c91-4427-97bf-8a1dc6d78222"
      },
      "execution_count": 39,
      "outputs": [
        {
          "output_type": "display_data",
          "data": {
            "text/plain": [
              "<Figure size 1152x576 with 1 Axes>"
            ],
            "image/png": "[encoded data removed]"
          },
          "metadata": {
            "needs_background": "light"
          }
        }
      ]
    },
    {
      "cell_type": "markdown",
      "source": [
        "The pattern can be clearly seen after some monthly aggregation and find the monthly average and plot over time."
      ],
      "metadata": {
        "id": "oNvfXDKe1Qd8"
      }
    },
    {
      "cell_type": "markdown",
      "source": [
        "##Top 10 Products"
      ],
      "metadata": {
        "id": "GbbDOTQ2rclI"
      }
    },
    {
      "cell_type": "code",
      "source": [
        "plt.figure(figsize=(15,5))\n",
        "TopTen = fsalesdata.groupby('Product Name')['Row ID'].count().sort_values(ascending=False)\n",
        "TopTen = TopTen [:10]\n",
        "TopTen.plot(kind='bar', color='blue')\n",
        "plt.title('Top Ten Product in Sales')\n",
        "plt.ylabel('Count')\n",
        "plt.xlabel('Product Names')\n",
        "plt.show()"
      ],
      "metadata": {
        "colab": {
          "base_uri": "https://localhost:8080/",
          "height": 653
        },
        "id": "BbjP9Be6reZl",
        "outputId": "8aad8b33-4eaa-4873-c042-74c4763ba465"
      },
      "execution_count": 87,
      "outputs": [
        {
          "output_type": "display_data",
          "data": {
            "text/plain": [
              "<Figure size 1080x360 with 1 Axes>"
            ],
            "image/png": "[encoded data removed]"
          },
          "metadata": {
            "needs_background": "light"
          }
        }
      ]
    },
    {
      "cell_type": "markdown",
      "source": [
        "The KI Adjustable-Hieght Table tops the list."
      ],
      "metadata": {
        "id": "Nnf3FSYPsZSu"
      }
    },
    {
      "cell_type": "markdown",
      "source": [
        "#3. Data Preparation"
      ],
      "metadata": {
        "id": "2UTohNpRsiKf"
      }
    },
    {
      "cell_type": "markdown",
      "source": [
        "## Create dummies and drop non essential columns"
      ],
      "metadata": {
        "id": "JZ3ULSqomNqZ"
      }
    },
    {
      "cell_type": "code",
      "source": [
        "data.Region.unique()"
      ],
      "metadata": {
        "colab": {
          "base_uri": "https://localhost:8080/"
        },
        "id": "sAGrnIxjmMzx",
        "outputId": "079a9e50-f625-4e43-d4fe-a7fb70c054bd"
      },
      "execution_count": 17,
      "outputs": [
        {
          "output_type": "execute_result",
          "data": {
            "text/plain": [
              "array(['South', 'West', 'Central', 'East'], dtype=object)"
            ]
          },
          "metadata": {},
          "execution_count": 17
        }
      ]
    },
    {
      "cell_type": "code",
      "source": [
        "dummy2=pd.get_dummies(fsalesdata[['Region','Segment','Category','Sub-Category','Sales','Quantity', 'Discount' , 'Profit','Order Date']],drop_first=True)\n",
        "dummy2.head(5)"
      ],
      "metadata": {
        "colab": {
          "base_uri": "https://localhost:8080/",
          "height": 374
        },
        "id": "ye1Ms_7gmeO8",
        "outputId": "30a9b2a9-1d36-4834-805c-8a0fc8652159"
      },
      "execution_count": 42,
      "outputs": [
        {
          "output_type": "execute_result",
          "data": {
            "text/plain": [
              "        Sales  Quantity  Discount    Profit Order Date  Region_East  \\\n",
              "0    261.9600         2      0.00   41.9136 2016-11-08            0   \n",
              "1    731.9400         3      0.00  219.5820 2016-11-08            0   \n",
              "3    957.5775         5      0.45 -383.0310 2015-10-11            0   \n",
              "5     48.8600         7      0.00   14.1694 2014-06-09            0   \n",
              "10  1706.1840         9      0.20   85.3092 2014-06-09            0   \n",
              "\n",
              "    Region_South  Region_West  Segment_Corporate  Segment_Home Office  \\\n",
              "0              1            0                  0                    0   \n",
              "1              1            0                  0                    0   \n",
              "3              1            0                  0                    0   \n",
              "5              0            1                  0                    0   \n",
              "10             0            1                  0                    0   \n",
              "\n",
              "    Sub-Category_Chairs  Sub-Category_Furnishings  Sub-Category_Tables  \n",
              "0                     0                         0                    0  \n",
              "1                     1                         0                    0  \n",
              "3                     0                         0                    1  \n",
              "5                     0                         1                    0  \n",
              "10                    0                         0                    1  "
            ],
            "text/html": [
              "\n",
              "  <div id=\"df-5195afad-012a-48c1-bf7a-a9366fec9fec\">\n",
              "    <div class=\"colab-df-container\">\n",
              "      <div>\n",
              "<style scoped>\n",
              "    .dataframe tbody tr th:only-of-type {\n",
              "        vertical-align: middle;\n",
              "    }\n",
              "\n",
              "    .dataframe tbody tr th {\n",
              "        vertical-align: top;\n",
              "    }\n",
              "\n",
              "    .dataframe thead th {\n",
              "        text-align: right;\n",
              "    }\n",
              "</style>\n",
              "<table border=\"1\" class=\"dataframe\">\n",
              "  <thead>\n",
              "    <tr style=\"text-align: right;\">\n",
              "      <th></th>\n",
              "      <th>Sales</th>\n",
              "      <th>Quantity</th>\n",
              "      <th>Discount</th>\n",
              "      <th>Profit</th>\n",
              "      <th>Order Date</th>\n",
              "      <th>Region_East</th>\n",
              "      <th>Region_South</th>\n",
              "      <th>Region_West</th>\n",
              "      <th>Segment_Corporate</th>\n",
              "      <th>Segment_Home Office</th>\n",
              "      <th>Sub-Category_Chairs</th>\n",
              "      <th>Sub-Category_Furnishings</th>\n",
              "      <th>Sub-Category_Tables</th>\n",
              "    </tr>\n",
              "  </thead>\n",
              "  <tbody>\n",
              "    <tr>\n",
              "      <th>0</th>\n",
              "      <td>261.9600</td>\n",
              "      <td>2</td>\n",
              "      <td>0.00</td>\n",
              "      <td>41.9136</td>\n",
              "      <td>2016-11-08</td>\n",
              "      <td>0</td>\n",
              "      <td>1</td>\n",
              "      <td>0</td>\n",
              "      <td>0</td>\n",
              "      <td>0</td>\n",
              "      <td>0</td>\n",
              "      <td>0</td>\n",
              "      <td>0</td>\n",
              "    </tr>\n",
              "    <tr>\n",
              "      <th>1</th>\n",
              "      <td>731.9400</td>\n",
              "      <td>3</td>\n",
              "      <td>0.00</td>\n",
              "      <td>219.5820</td>\n",
              "      <td>2016-11-08</td>\n",
              "      <td>0</td>\n",
              "      <td>1</td>\n",
              "      <td>0</td>\n",
              "      <td>0</td>\n",
              "      <td>0</td>\n",
              "      <td>1</td>\n",
              "      <td>0</td>\n",
              "      <td>0</td>\n",
              "    </tr>\n",
              "    <tr>\n",
              "      <th>3</th>\n",
              "      <td>957.5775</td>\n",
              "      <td>5</td>\n",
              "      <td>0.45</td>\n",
              "      <td>-383.0310</td>\n",
              "      <td>2015-10-11</td>\n",
              "      <td>0</td>\n",
              "      <td>1</td>\n",
              "      <td>0</td>\n",
              "      <td>0</td>\n",
              "      <td>0</td>\n",
              "      <td>0</td>\n",
              "      <td>0</td>\n",
              "      <td>1</td>\n",
              "    </tr>\n",
              "    <tr>\n",
              "      <th>5</th>\n",
              "      <td>48.8600</td>\n",
              "      <td>7</td>\n",
              "      <td>0.00</td>\n",
              "      <td>14.1694</td>\n",
              "      <td>2014-06-09</td>\n",
              "      <td>0</td>\n",
              "      <td>0</td>\n",
              "      <td>1</td>\n",
              "      <td>0</td>\n",
              "      <td>0</td>\n",
              "      <td>0</td>\n",
              "      <td>1</td>\n",
              "      <td>0</td>\n",
              "    </tr>\n",
              "    <tr>\n",
              "      <th>10</th>\n",
              "      <td>1706.1840</td>\n",
              "      <td>9</td>\n",
              "      <td>0.20</td>\n",
              "      <td>85.3092</td>\n",
              "      <td>2014-06-09</td>\n",
              "      <td>0</td>\n",
              "      <td>0</td>\n",
              "      <td>1</td>\n",
              "      <td>0</td>\n",
              "      <td>0</td>\n",
              "      <td>0</td>\n",
              "      <td>0</td>\n",
              "      <td>1</td>\n",
              "    </tr>\n",
              "  </tbody>\n",
              "</table>\n",
              "</div>\n",
              "      <button class=\"colab-df-convert\" onclick=\"convertToInteractive('df-5195afad-012a-48c1-bf7a-a9366fec9fec')\"\n",
              "              title=\"Convert this dataframe to an interactive table.\"\n",
              "              style=\"display:none;\">\n",
              "        \n",
              "  <svg xmlns=\"http://www.w3.org/2000/svg\" height=\"24px\"viewBox=\"0 0 24 24\"\n",
              "       width=\"24px\">\n",
              "    <path d=\"M0 0h24v24H0V0z\" fill=\"none\"/>\n",
              "    <path d=\"M18.56 5.44l.94 2.06.94-2.06 2.06-.94-2.06-.94-.94-2.06-.94 2.06-2.06.94zm-11 1L8.5 8.5l.94-2.06 2.06-.94-2.06-.94L8.5 2.5l-.94 2.06-2.06.94zm10 10l.94 2.06.94-2.06 2.06-.94-2.06-.94-.94-2.06-.94 2.06-2.06.94z\"/><path d=\"M17.41 7.96l-1.37-1.37c-.4-.4-.92-.59-1.43-.59-.52 0-1.04.2-1.43.59L10.3 9.45l-7.72 7.72c-.78.78-.78 2.05 0 2.83L4 21.41c.39.39.9.59 1.41.59.51 0 1.02-.2 1.41-.59l7.78-7.78 2.81-2.81c.8-.78.8-2.07 0-2.86zM5.41 20L4 18.59l7.72-7.72 1.47 1.35L5.41 20z\"/>\n",
              "  </svg>\n",
              "      </button>\n",
              "      \n",
              "  <style>\n",
              "    .colab-df-container {\n",
              "      display:flex;\n",
              "      flex-wrap:wrap;\n",
              "      gap: 12px;\n",
              "    }\n",
              "\n",
              "    .colab-df-convert {\n",
              "      background-color: #E8F0FE;\n",
              "      border: none;\n",
              "      border-radius: 50%;\n",
              "      cursor: pointer;\n",
              "      display: none;\n",
              "      fill: #1967D2;\n",
              "      height: 32px;\n",
              "      padding: 0 0 0 0;\n",
              "      width: 32px;\n",
              "    }\n",
              "\n",
              "    .colab-df-convert:hover {\n",
              "      background-color: #E2EBFA;\n",
              "      box-shadow: 0px 1px 2px rgba(60, 64, 67, 0.3), 0px 1px 3px 1px rgba(60, 64, 67, 0.15);\n",
              "      fill: #174EA6;\n",
              "    }\n",
              "\n",
              "    [theme=dark] .colab-df-convert {\n",
              "      background-color: #3B4455;\n",
              "      fill: #D2E3FC;\n",
              "    }\n",
              "\n",
              "    [theme=dark] .colab-df-convert:hover {\n",
              "      background-color: #434B5C;\n",
              "      box-shadow: 0px 1px 3px 1px rgba(0, 0, 0, 0.15);\n",
              "      filter: drop-shadow(0px 1px 2px rgba(0, 0, 0, 0.3));\n",
              "      fill: #FFFFFF;\n",
              "    }\n",
              "  </style>\n",
              "\n",
              "      <script>\n",
              "        const buttonEl =\n",
              "          document.querySelector('#df-5195afad-012a-48c1-bf7a-a9366fec9fec button.colab-df-convert');\n",
              "        buttonEl.style.display =\n",
              "          google.colab.kernel.accessAllowed ? 'block' : 'none';\n",
              "\n",
              "        async function convertToInteractive(key) {\n",
              "          const element = document.querySelector('#df-5195afad-012a-48c1-bf7a-a9366fec9fec');\n",
              "          const dataTable =\n",
              "            await google.colab.kernel.invokeFunction('convertToInteractive',\n",
              "                                                     [key], {});\n",
              "          if (!dataTable) return;\n",
              "\n",
              "          const docLinkHtml = 'Like what you see? Visit the ' +\n",
              "            '<a target=\"_blank\" href=https://colab.research.google.com/notebooks/data_table.ipynb>data table notebook</a>'\n",
              "            + ' to learn more about interactive tables.';\n",
              "          element.innerHTML = '';\n",
              "          dataTable['output_type'] = 'display_data';\n",
              "          await google.colab.output.renderOutput(dataTable, element);\n",
              "          const docLink = document.createElement('div');\n",
              "          docLink.innerHTML = docLinkHtml;\n",
              "          element.appendChild(docLink);\n",
              "        }\n",
              "      </script>\n",
              "    </div>\n",
              "  </div>\n",
              "  "
            ]
          },
          "metadata": {},
          "execution_count": 42
        }
      ]
    },
    {
      "cell_type": "markdown",
      "source": [
        "## Correlation Matrix and Multicollinnearity check"
      ],
      "metadata": {
        "id": "S03Gimfprbyg"
      }
    },
    {
      "cell_type": "code",
      "source": [
        "plt.figure(figsize=(20,5))\n",
        "sns.heatmap(dummy2.corr(),annot=True)"
      ],
      "metadata": {
        "colab": {
          "base_uri": "https://localhost:8080/",
          "height": 450
        },
        "id": "_PxqfNZBm1UY",
        "outputId": "48db209b-af9b-499f-d2e2-e442a78d96cd"
      },
      "execution_count": 43,
      "outputs": [
        {
          "output_type": "execute_result",
          "data": {
            "text/plain": [
              "<matplotlib.axes._subplots.AxesSubplot at 0x7fd14d2d4a90>"
            ]
          },
          "metadata": {},
          "execution_count": 43
        },
        {
          "output_type": "display_data",
          "data": {
            "text/plain": [
              "<Figure size 1440x360 with 2 Axes>"
            ],
            "image/png": "[encoded data removed]"
          },
          "metadata": {
            "needs_background": "light"
          }
        }
      ]
    },
    {
      "cell_type": "markdown",
      "source": [
        "- Since most of the variables have weak relationship with the Response variable, It is important that we experiment with all the variables and train the first model and later on remove the once with the smallest correlation values to the response variable.\n",
        "\n",
        "- There is no multicollinearity amongst the independent variables, hence no variables are to be removed."
      ],
      "metadata": {
        "id": "z7T7CYBPEIj_"
      }
    },
    {
      "cell_type": "markdown",
      "source": [
        "## Checking outliers"
      ],
      "metadata": {
        "id": "8l2Qvxk5DzbO"
      }
    },
    {
      "cell_type": "code",
      "source": [
        "sns.boxplot('Quantity', data=dummy2)\n",
        "\n",
        "\n"
      ],
      "metadata": {
        "colab": {
          "base_uri": "https://localhost:8080/",
          "height": 351
        },
        "id": "AfLWuzsntY1X",
        "outputId": "fa6c7db4-00e7-4c42-c3d1-d1901034cddf"
      },
      "execution_count": 88,
      "outputs": [
        {
          "output_type": "stream",
          "name": "stderr",
          "text": [
            "/usr/local/lib/python3.7/dist-packages/seaborn/_decorators.py:43: FutureWarning: Pass the following variable as a keyword arg: x. From version 0.12, the only valid positional argument will be `data`, and passing other arguments without an explicit keyword will result in an error or misinterpretation.\n",
            "  FutureWarning\n"
          ]
        },
        {
          "output_type": "execute_result",
          "data": {
            "text/plain": [
              "<matplotlib.axes._subplots.AxesSubplot at 0x7fd147689ad0>"
            ]
          },
          "metadata": {},
          "execution_count": 88
        },
        {
          "output_type": "display_data",
          "data": {
            "text/plain": [
              "<Figure size 432x288 with 1 Axes>"
            ],
            "image/png": "[encoded data removed]"
          },
          "metadata": {
            "needs_background": "light"
          }
        }
      ]
    },
    {
      "cell_type": "markdown",
      "source": [
        "The quantity variable is skewed to the right."
      ],
      "metadata": {
        "id": "JmT0N2vB2B50"
      }
    },
    {
      "cell_type": "code",
      "source": [
        "fsales = dummy2\n",
        "\n",
        "fsales.head()"
      ],
      "metadata": {
        "colab": {
          "base_uri": "https://localhost:8080/",
          "height": 374
        },
        "id": "O8YFpUE8Dynu",
        "outputId": "40e97403-49ef-4b12-af00-0a2e065d7ef3"
      },
      "execution_count": 44,
      "outputs": [
        {
          "output_type": "execute_result",
          "data": {
            "text/plain": [
              "        Sales  Quantity  Discount    Profit Order Date  Region_East  \\\n",
              "0    261.9600         2      0.00   41.9136 2016-11-08            0   \n",
              "1    731.9400         3      0.00  219.5820 2016-11-08            0   \n",
              "3    957.5775         5      0.45 -383.0310 2015-10-11            0   \n",
              "5     48.8600         7      0.00   14.1694 2014-06-09            0   \n",
              "10  1706.1840         9      0.20   85.3092 2014-06-09            0   \n",
              "\n",
              "    Region_South  Region_West  Segment_Corporate  Segment_Home Office  \\\n",
              "0              1            0                  0                    0   \n",
              "1              1            0                  0                    0   \n",
              "3              1            0                  0                    0   \n",
              "5              0            1                  0                    0   \n",
              "10             0            1                  0                    0   \n",
              "\n",
              "    Sub-Category_Chairs  Sub-Category_Furnishings  Sub-Category_Tables  \n",
              "0                     0                         0                    0  \n",
              "1                     1                         0                    0  \n",
              "3                     0                         0                    1  \n",
              "5                     0                         1                    0  \n",
              "10                    0                         0                    1  "
            ],
            "text/html": [
              "\n",
              "  <div id=\"df-5c1b3e6e-fc3e-44b8-bc7f-663797090ec6\">\n",
              "    <div class=\"colab-df-container\">\n",
              "      <div>\n",
              "<style scoped>\n",
              "    .dataframe tbody tr th:only-of-type {\n",
              "        vertical-align: middle;\n",
              "    }\n",
              "\n",
              "    .dataframe tbody tr th {\n",
              "        vertical-align: top;\n",
              "    }\n",
              "\n",
              "    .dataframe thead th {\n",
              "        text-align: right;\n",
              "    }\n",
              "</style>\n",
              "<table border=\"1\" class=\"dataframe\">\n",
              "  <thead>\n",
              "    <tr style=\"text-align: right;\">\n",
              "      <th></th>\n",
              "      <th>Sales</th>\n",
              "      <th>Quantity</th>\n",
              "      <th>Discount</th>\n",
              "      <th>Profit</th>\n",
              "      <th>Order Date</th>\n",
              "      <th>Region_East</th>\n",
              "      <th>Region_South</th>\n",
              "      <th>Region_West</th>\n",
              "      <th>Segment_Corporate</th>\n",
              "      <th>Segment_Home Office</th>\n",
              "      <th>Sub-Category_Chairs</th>\n",
              "      <th>Sub-Category_Furnishings</th>\n",
              "      <th>Sub-Category_Tables</th>\n",
              "    </tr>\n",
              "  </thead>\n",
              "  <tbody>\n",
              "    <tr>\n",
              "      <th>0</th>\n",
              "      <td>261.9600</td>\n",
              "      <td>2</td>\n",
              "      <td>0.00</td>\n",
              "      <td>41.9136</td>\n",
              "      <td>2016-11-08</td>\n",
              "      <td>0</td>\n",
              "      <td>1</td>\n",
              "      <td>0</td>\n",
              "      <td>0</td>\n",
              "      <td>0</td>\n",
              "      <td>0</td>\n",
              "      <td>0</td>\n",
              "      <td>0</td>\n",
              "    </tr>\n",
              "    <tr>\n",
              "      <th>1</th>\n",
              "      <td>731.9400</td>\n",
              "      <td>3</td>\n",
              "      <td>0.00</td>\n",
              "      <td>219.5820</td>\n",
              "      <td>2016-11-08</td>\n",
              "      <td>0</td>\n",
              "      <td>1</td>\n",
              "      <td>0</td>\n",
              "      <td>0</td>\n",
              "      <td>0</td>\n",
              "      <td>1</td>\n",
              "      <td>0</td>\n",
              "      <td>0</td>\n",
              "    </tr>\n",
              "    <tr>\n",
              "      <th>3</th>\n",
              "      <td>957.5775</td>\n",
              "      <td>5</td>\n",
              "      <td>0.45</td>\n",
              "      <td>-383.0310</td>\n",
              "      <td>2015-10-11</td>\n",
              "      <td>0</td>\n",
              "      <td>1</td>\n",
              "      <td>0</td>\n",
              "      <td>0</td>\n",
              "      <td>0</td>\n",
              "      <td>0</td>\n",
              "      <td>0</td>\n",
              "      <td>1</td>\n",
              "    </tr>\n",
              "    <tr>\n",
              "      <th>5</th>\n",
              "      <td>48.8600</td>\n",
              "      <td>7</td>\n",
              "      <td>0.00</td>\n",
              "      <td>14.1694</td>\n",
              "      <td>2014-06-09</td>\n",
              "      <td>0</td>\n",
              "      <td>0</td>\n",
              "      <td>1</td>\n",
              "      <td>0</td>\n",
              "      <td>0</td>\n",
              "      <td>0</td>\n",
              "      <td>1</td>\n",
              "      <td>0</td>\n",
              "    </tr>\n",
              "    <tr>\n",
              "      <th>10</th>\n",
              "      <td>1706.1840</td>\n",
              "      <td>9</td>\n",
              "      <td>0.20</td>\n",
              "      <td>85.3092</td>\n",
              "      <td>2014-06-09</td>\n",
              "      <td>0</td>\n",
              "      <td>0</td>\n",
              "      <td>1</td>\n",
              "      <td>0</td>\n",
              "      <td>0</td>\n",
              "      <td>0</td>\n",
              "      <td>0</td>\n",
              "      <td>1</td>\n",
              "    </tr>\n",
              "  </tbody>\n",
              "</table>\n",
              "</div>\n",
              "      <button class=\"colab-df-convert\" onclick=\"convertToInteractive('df-5c1b3e6e-fc3e-44b8-bc7f-663797090ec6')\"\n",
              "              title=\"Convert this dataframe to an interactive table.\"\n",
              "              style=\"display:none;\">\n",
              "        \n",
              "  <svg xmlns=\"http://www.w3.org/2000/svg\" height=\"24px\"viewBox=\"0 0 24 24\"\n",
              "       width=\"24px\">\n",
              "    <path d=\"M0 0h24v24H0V0z\" fill=\"none\"/>\n",
              "    <path d=\"M18.56 5.44l.94 2.06.94-2.06 2.06-.94-2.06-.94-.94-2.06-.94 2.06-2.06.94zm-11 1L8.5 8.5l.94-2.06 2.06-.94-2.06-.94L8.5 2.5l-.94 2.06-2.06.94zm10 10l.94 2.06.94-2.06 2.06-.94-2.06-.94-.94-2.06-.94 2.06-2.06.94z\"/><path d=\"M17.41 7.96l-1.37-1.37c-.4-.4-.92-.59-1.43-.59-.52 0-1.04.2-1.43.59L10.3 9.45l-7.72 7.72c-.78.78-.78 2.05 0 2.83L4 21.41c.39.39.9.59 1.41.59.51 0 1.02-.2 1.41-.59l7.78-7.78 2.81-2.81c.8-.78.8-2.07 0-2.86zM5.41 20L4 18.59l7.72-7.72 1.47 1.35L5.41 20z\"/>\n",
              "  </svg>\n",
              "      </button>\n",
              "      \n",
              "  <style>\n",
              "    .colab-df-container {\n",
              "      display:flex;\n",
              "      flex-wrap:wrap;\n",
              "      gap: 12px;\n",
              "    }\n",
              "\n",
              "    .colab-df-convert {\n",
              "      background-color: #E8F0FE;\n",
              "      border: none;\n",
              "      border-radius: 50%;\n",
              "      cursor: pointer;\n",
              "      display: none;\n",
              "      fill: #1967D2;\n",
              "      height: 32px;\n",
              "      padding: 0 0 0 0;\n",
              "      width: 32px;\n",
              "    }\n",
              "\n",
              "    .colab-df-convert:hover {\n",
              "      background-color: #E2EBFA;\n",
              "      box-shadow: 0px 1px 2px rgba(60, 64, 67, 0.3), 0px 1px 3px 1px rgba(60, 64, 67, 0.15);\n",
              "      fill: #174EA6;\n",
              "    }\n",
              "\n",
              "    [theme=dark] .colab-df-convert {\n",
              "      background-color: #3B4455;\n",
              "      fill: #D2E3FC;\n",
              "    }\n",
              "\n",
              "    [theme=dark] .colab-df-convert:hover {\n",
              "      background-color: #434B5C;\n",
              "      box-shadow: 0px 1px 3px 1px rgba(0, 0, 0, 0.15);\n",
              "      filter: drop-shadow(0px 1px 2px rgba(0, 0, 0, 0.3));\n",
              "      fill: #FFFFFF;\n",
              "    }\n",
              "  </style>\n",
              "\n",
              "      <script>\n",
              "        const buttonEl =\n",
              "          document.querySelector('#df-5c1b3e6e-fc3e-44b8-bc7f-663797090ec6 button.colab-df-convert');\n",
              "        buttonEl.style.display =\n",
              "          google.colab.kernel.accessAllowed ? 'block' : 'none';\n",
              "\n",
              "        async function convertToInteractive(key) {\n",
              "          const element = document.querySelector('#df-5c1b3e6e-fc3e-44b8-bc7f-663797090ec6');\n",
              "          const dataTable =\n",
              "            await google.colab.kernel.invokeFunction('convertToInteractive',\n",
              "                                                     [key], {});\n",
              "          if (!dataTable) return;\n",
              "\n",
              "          const docLinkHtml = 'Like what you see? Visit the ' +\n",
              "            '<a target=\"_blank\" href=https://colab.research.google.com/notebooks/data_table.ipynb>data table notebook</a>'\n",
              "            + ' to learn more about interactive tables.';\n",
              "          element.innerHTML = '';\n",
              "          dataTable['output_type'] = 'display_data';\n",
              "          await google.colab.output.renderOutput(dataTable, element);\n",
              "          const docLink = document.createElement('div');\n",
              "          docLink.innerHTML = docLinkHtml;\n",
              "          element.appendChild(docLink);\n",
              "        }\n",
              "      </script>\n",
              "    </div>\n",
              "  </div>\n",
              "  "
            ]
          },
          "metadata": {},
          "execution_count": 44
        }
      ]
    },
    {
      "cell_type": "code",
      "source": [
        "import datetime\n",
        "\n",
        "fsalesdate = fsalesdata[['Order Date']]\n",
        "oyears = pd.DatetimeIndex(fsalesdate['Order Date']).year\n",
        "\n",
        "oyears.unique()\n",
        "\n",
        "#print(year)"
      ],
      "metadata": {
        "colab": {
          "base_uri": "https://localhost:8080/"
        },
        "id": "ATyTzic1FM9Z",
        "outputId": "fbf58818-e3e5-4ae7-f1bf-3410dcb03d25"
      },
      "execution_count": 45,
      "outputs": [
        {
          "output_type": "execute_result",
          "data": {
            "text/plain": [
              "Int64Index([2016, 2015, 2014, 2017], dtype='int64', name='Order Date')"
            ]
          },
          "metadata": {},
          "execution_count": 45
        }
      ]
    },
    {
      "cell_type": "markdown",
      "source": [
        "## Check the distribution of dataset by year??"
      ],
      "metadata": {
        "id": "UvwC8-M0L0YW"
      }
    },
    {
      "cell_type": "code",
      "source": [
        "#datprof = ProfileReport(fsales)\n",
        "#datprof.to_file(\"profiling.html\")\n",
        "#datprof"
      ],
      "metadata": {
        "id": "DUjkW_EqY1Ks"
      },
      "execution_count": 23,
      "outputs": []
    },
    {
      "cell_type": "markdown",
      "source": [
        "## Some further analysis"
      ],
      "metadata": {
        "id": "_FE6Abbxbpmq"
      }
    },
    {
      "cell_type": "code",
      "source": [
        "startdate = fsales['Order Date'].min()\n",
        "enddate = fsales['Order Date'].max()\n",
        "startdate"
      ],
      "metadata": {
        "colab": {
          "base_uri": "https://localhost:8080/"
        },
        "id": "q0pTGtXnbpLc",
        "outputId": "bc00aca2-9320-4bad-fe42-37bd645d5f83"
      },
      "execution_count": 46,
      "outputs": [
        {
          "output_type": "execute_result",
          "data": {
            "text/plain": [
              "Timestamp('2014-01-06 00:00:00')"
            ]
          },
          "metadata": {},
          "execution_count": 46
        }
      ]
    },
    {
      "cell_type": "code",
      "source": [
        "# Checking for missing values ion the data.\n",
        "fsales.isnull().sum()"
      ],
      "metadata": {
        "colab": {
          "base_uri": "https://localhost:8080/"
        },
        "id": "mWU3HzdTXc87",
        "outputId": "ce6eab5b-45a0-4bbc-b9f7-b577a1a88cb3"
      },
      "execution_count": 47,
      "outputs": [
        {
          "output_type": "execute_result",
          "data": {
            "text/plain": [
              "Sales                       0\n",
              "Quantity                    0\n",
              "Discount                    0\n",
              "Profit                      0\n",
              "Order Date                  0\n",
              "Region_East                 0\n",
              "Region_South                0\n",
              "Region_West                 0\n",
              "Segment_Corporate           0\n",
              "Segment_Home Office         0\n",
              "Sub-Category_Chairs         0\n",
              "Sub-Category_Furnishings    0\n",
              "Sub-Category_Tables         0\n",
              "dtype: int64"
            ]
          },
          "metadata": {},
          "execution_count": 47
        }
      ]
    },
    {
      "cell_type": "markdown",
      "source": [
        "#Indexing Order Date"
      ],
      "metadata": {
        "id": "onocsipQdoOM"
      }
    },
    {
      "cell_type": "code",
      "source": [
        "fsales['Order Date'] = pd.to_datetime(fsales['Order Date'])\n",
        "fsales= fsales.set_index('Order Date')\n",
        "fsales"
      ],
      "metadata": {
        "colab": {
          "base_uri": "https://localhost:8080/",
          "height": 727
        },
        "id": "UYipWV76dnVy",
        "outputId": "77deb128-9a88-46ce-9d85-e2e4b06d1aca"
      },
      "execution_count": 48,
      "outputs": [
        {
          "output_type": "execute_result",
          "data": {
            "text/plain": [
              "                Sales  Quantity  Discount    Profit  Region_East  \\\n",
              "Order Date                                                         \n",
              "2016-11-08   261.9600         2      0.00   41.9136            0   \n",
              "2016-11-08   731.9400         3      0.00  219.5820            0   \n",
              "2015-10-11   957.5775         5      0.45 -383.0310            0   \n",
              "2014-06-09    48.8600         7      0.00   14.1694            0   \n",
              "2014-06-09  1706.1840         9      0.20   85.3092            0   \n",
              "...               ...       ...       ...       ...          ...   \n",
              "2015-03-19   383.4656         4      0.32  -67.6704            0   \n",
              "2016-12-05    13.4000         1      0.00    6.4320            1   \n",
              "2015-09-06    85.9800         1      0.00   22.3548            0   \n",
              "2014-01-21    25.2480         3      0.20    4.1028            0   \n",
              "2017-02-26    91.9600         2      0.00   15.6332            0   \n",
              "\n",
              "            Region_South  Region_West  Segment_Corporate  Segment_Home Office  \\\n",
              "Order Date                                                                      \n",
              "2016-11-08             1            0                  0                    0   \n",
              "2016-11-08             1            0                  0                    0   \n",
              "2015-10-11             1            0                  0                    0   \n",
              "2014-06-09             0            1                  0                    0   \n",
              "2014-06-09             0            1                  0                    0   \n",
              "...                  ...          ...                ...                  ...   \n",
              "2015-03-19             0            0                  0                    1   \n",
              "2016-12-05             0            0                  1                    0   \n",
              "2015-09-06             1            0                  0                    0   \n",
              "2014-01-21             1            0                  0                    0   \n",
              "2017-02-26             0            1                  0                    0   \n",
              "\n",
              "            Sub-Category_Chairs  Sub-Category_Furnishings  Sub-Category_Tables  \n",
              "Order Date                                                                      \n",
              "2016-11-08                    0                         0                    0  \n",
              "2016-11-08                    1                         0                    0  \n",
              "2015-10-11                    0                         0                    1  \n",
              "2014-06-09                    0                         1                    0  \n",
              "2014-06-09                    0                         0                    1  \n",
              "...                         ...                       ...                  ...  \n",
              "2015-03-19                    0                         0                    0  \n",
              "2016-12-05                    0                         1                    0  \n",
              "2015-09-06                    0                         0                    1  \n",
              "2014-01-21                    0                         1                    0  \n",
              "2017-02-26                    0                         1                    0  \n",
              "\n",
              "[2121 rows x 12 columns]"
            ],
            "text/html": [
              "\n",
              "  <div id=\"df-129d759e-c092-414b-915e-268666657576\">\n",
              "    <div class=\"colab-df-container\">\n",
              "      <div>\n",
              "<style scoped>\n",
              "    .dataframe tbody tr th:only-of-type {\n",
              "        vertical-align: middle;\n",
              "    }\n",
              "\n",
              "    .dataframe tbody tr th {\n",
              "        vertical-align: top;\n",
              "    }\n",
              "\n",
              "    .dataframe thead th {\n",
              "        text-align: right;\n",
              "    }\n",
              "</style>\n",
              "<table border=\"1\" class=\"dataframe\">\n",
              "  <thead>\n",
              "    <tr style=\"text-align: right;\">\n",
              "      <th></th>\n",
              "      <th>Sales</th>\n",
              "      <th>Quantity</th>\n",
              "      <th>Discount</th>\n",
              "      <th>Profit</th>\n",
              "      <th>Region_East</th>\n",
              "      <th>Region_South</th>\n",
              "      <th>Region_West</th>\n",
              "      <th>Segment_Corporate</th>\n",
              "      <th>Segment_Home Office</th>\n",
              "      <th>Sub-Category_Chairs</th>\n",
              "      <th>Sub-Category_Furnishings</th>\n",
              "      <th>Sub-Category_Tables</th>\n",
              "    </tr>\n",
              "    <tr>\n",
              "      <th>Order Date</th>\n",
              "      <th></th>\n",
              "      <th></th>\n",
              "      <th></th>\n",
              "      <th></th>\n",
              "      <th></th>\n",
              "      <th></th>\n",
              "      <th></th>\n",
              "      <th></th>\n",
              "      <th></th>\n",
              "      <th></th>\n",
              "      <th></th>\n",
              "      <th></th>\n",
              "    </tr>\n",
              "  </thead>\n",
              "  <tbody>\n",
              "    <tr>\n",
              "      <th>2016-11-08</th>\n",
              "      <td>261.9600</td>\n",
              "      <td>2</td>\n",
              "      <td>0.00</td>\n",
              "      <td>41.9136</td>\n",
              "      <td>0</td>\n",
              "      <td>1</td>\n",
              "      <td>0</td>\n",
              "      <td>0</td>\n",
              "      <td>0</td>\n",
              "      <td>0</td>\n",
              "      <td>0</td>\n",
              "      <td>0</td>\n",
              "    </tr>\n",
              "    <tr>\n",
              "      <th>2016-11-08</th>\n",
              "      <td>731.9400</td>\n",
              "      <td>3</td>\n",
              "      <td>0.00</td>\n",
              "      <td>219.5820</td>\n",
              "      <td>0</td>\n",
              "      <td>1</td>\n",
              "      <td>0</td>\n",
              "      <td>0</td>\n",
              "      <td>0</td>\n",
              "      <td>1</td>\n",
              "      <td>0</td>\n",
              "      <td>0</td>\n",
              "    </tr>\n",
              "    <tr>\n",
              "      <th>2015-10-11</th>\n",
              "      <td>957.5775</td>\n",
              "      <td>5</td>\n",
              "      <td>0.45</td>\n",
              "      <td>-383.0310</td>\n",
              "      <td>0</td>\n",
              "      <td>1</td>\n",
              "      <td>0</td>\n",
              "      <td>0</td>\n",
              "      <td>0</td>\n",
              "      <td>0</td>\n",
              "      <td>0</td>\n",
              "      <td>1</td>\n",
              "    </tr>\n",
              "    <tr>\n",
              "      <th>2014-06-09</th>\n",
              "      <td>48.8600</td>\n",
              "      <td>7</td>\n",
              "      <td>0.00</td>\n",
              "      <td>14.1694</td>\n",
              "      <td>0</td>\n",
              "      <td>0</td>\n",
              "      <td>1</td>\n",
              "      <td>0</td>\n",
              "      <td>0</td>\n",
              "      <td>0</td>\n",
              "      <td>1</td>\n",
              "      <td>0</td>\n",
              "    </tr>\n",
              "    <tr>\n",
              "      <th>2014-06-09</th>\n",
              "      <td>1706.1840</td>\n",
              "      <td>9</td>\n",
              "      <td>0.20</td>\n",
              "      <td>85.3092</td>\n",
              "      <td>0</td>\n",
              "      <td>0</td>\n",
              "      <td>1</td>\n",
              "      <td>0</td>\n",
              "      <td>0</td>\n",
              "      <td>0</td>\n",
              "      <td>0</td>\n",
              "      <td>1</td>\n",
              "    </tr>\n",
              "    <tr>\n",
              "      <th>...</th>\n",
              "      <td>...</td>\n",
              "      <td>...</td>\n",
              "      <td>...</td>\n",
              "      <td>...</td>\n",
              "      <td>...</td>\n",
              "      <td>...</td>\n",
              "      <td>...</td>\n",
              "      <td>...</td>\n",
              "      <td>...</td>\n",
              "      <td>...</td>\n",
              "      <td>...</td>\n",
              "      <td>...</td>\n",
              "    </tr>\n",
              "    <tr>\n",
              "      <th>2015-03-19</th>\n",
              "      <td>383.4656</td>\n",
              "      <td>4</td>\n",
              "      <td>0.32</td>\n",
              "      <td>-67.6704</td>\n",
              "      <td>0</td>\n",
              "      <td>0</td>\n",
              "      <td>0</td>\n",
              "      <td>0</td>\n",
              "      <td>1</td>\n",
              "      <td>0</td>\n",
              "      <td>0</td>\n",
              "      <td>0</td>\n",
              "    </tr>\n",
              "    <tr>\n",
              "      <th>2016-12-05</th>\n",
              "      <td>13.4000</td>\n",
              "      <td>1</td>\n",
              "      <td>0.00</td>\n",
              "      <td>6.4320</td>\n",
              "      <td>1</td>\n",
              "      <td>0</td>\n",
              "      <td>0</td>\n",
              "      <td>1</td>\n",
              "      <td>0</td>\n",
              "      <td>0</td>\n",
              "      <td>1</td>\n",
              "      <td>0</td>\n",
              "    </tr>\n",
              "    <tr>\n",
              "      <th>2015-09-06</th>\n",
              "      <td>85.9800</td>\n",
              "      <td>1</td>\n",
              "      <td>0.00</td>\n",
              "      <td>22.3548</td>\n",
              "      <td>0</td>\n",
              "      <td>1</td>\n",
              "      <td>0</td>\n",
              "      <td>0</td>\n",
              "      <td>0</td>\n",
              "      <td>0</td>\n",
              "      <td>0</td>\n",
              "      <td>1</td>\n",
              "    </tr>\n",
              "    <tr>\n",
              "      <th>2014-01-21</th>\n",
              "      <td>25.2480</td>\n",
              "      <td>3</td>\n",
              "      <td>0.20</td>\n",
              "      <td>4.1028</td>\n",
              "      <td>0</td>\n",
              "      <td>1</td>\n",
              "      <td>0</td>\n",
              "      <td>0</td>\n",
              "      <td>0</td>\n",
              "      <td>0</td>\n",
              "      <td>1</td>\n",
              "      <td>0</td>\n",
              "    </tr>\n",
              "    <tr>\n",
              "      <th>2017-02-26</th>\n",
              "      <td>91.9600</td>\n",
              "      <td>2</td>\n",
              "      <td>0.00</td>\n",
              "      <td>15.6332</td>\n",
              "      <td>0</td>\n",
              "      <td>0</td>\n",
              "      <td>1</td>\n",
              "      <td>0</td>\n",
              "      <td>0</td>\n",
              "      <td>0</td>\n",
              "      <td>1</td>\n",
              "      <td>0</td>\n",
              "    </tr>\n",
              "  </tbody>\n",
              "</table>\n",
              "<p>2121 rows × 12 columns</p>\n",
              "</div>\n",
              "      <button class=\"colab-df-convert\" onclick=\"convertToInteractive('df-129d759e-c092-414b-915e-268666657576')\"\n",
              "              title=\"Convert this dataframe to an interactive table.\"\n",
              "              style=\"display:none;\">\n",
              "        \n",
              "  <svg xmlns=\"http://www.w3.org/2000/svg\" height=\"24px\"viewBox=\"0 0 24 24\"\n",
              "       width=\"24px\">\n",
              "    <path d=\"M0 0h24v24H0V0z\" fill=\"none\"/>\n",
              "    <path d=\"M18.56 5.44l.94 2.06.94-2.06 2.06-.94-2.06-.94-.94-2.06-.94 2.06-2.06.94zm-11 1L8.5 8.5l.94-2.06 2.06-.94-2.06-.94L8.5 2.5l-.94 2.06-2.06.94zm10 10l.94 2.06.94-2.06 2.06-.94-2.06-.94-.94-2.06-.94 2.06-2.06.94z\"/><path d=\"M17.41 7.96l-1.37-1.37c-.4-.4-.92-.59-1.43-.59-.52 0-1.04.2-1.43.59L10.3 9.45l-7.72 7.72c-.78.78-.78 2.05 0 2.83L4 21.41c.39.39.9.59 1.41.59.51 0 1.02-.2 1.41-.59l7.78-7.78 2.81-2.81c.8-.78.8-2.07 0-2.86zM5.41 20L4 18.59l7.72-7.72 1.47 1.35L5.41 20z\"/>\n",
              "  </svg>\n",
              "      </button>\n",
              "      \n",
              "  <style>\n",
              "    .colab-df-container {\n",
              "      display:flex;\n",
              "      flex-wrap:wrap;\n",
              "      gap: 12px;\n",
              "    }\n",
              "\n",
              "    .colab-df-convert {\n",
              "      background-color: #E8F0FE;\n",
              "      border: none;\n",
              "      border-radius: 50%;\n",
              "      cursor: pointer;\n",
              "      display: none;\n",
              "      fill: #1967D2;\n",
              "      height: 32px;\n",
              "      padding: 0 0 0 0;\n",
              "      width: 32px;\n",
              "    }\n",
              "\n",
              "    .colab-df-convert:hover {\n",
              "      background-color: #E2EBFA;\n",
              "      box-shadow: 0px 1px 2px rgba(60, 64, 67, 0.3), 0px 1px 3px 1px rgba(60, 64, 67, 0.15);\n",
              "      fill: #174EA6;\n",
              "    }\n",
              "\n",
              "    [theme=dark] .colab-df-convert {\n",
              "      background-color: #3B4455;\n",
              "      fill: #D2E3FC;\n",
              "    }\n",
              "\n",
              "    [theme=dark] .colab-df-convert:hover {\n",
              "      background-color: #434B5C;\n",
              "      box-shadow: 0px 1px 3px 1px rgba(0, 0, 0, 0.15);\n",
              "      filter: drop-shadow(0px 1px 2px rgba(0, 0, 0, 0.3));\n",
              "      fill: #FFFFFF;\n",
              "    }\n",
              "  </style>\n",
              "\n",
              "      <script>\n",
              "        const buttonEl =\n",
              "          document.querySelector('#df-129d759e-c092-414b-915e-268666657576 button.colab-df-convert');\n",
              "        buttonEl.style.display =\n",
              "          google.colab.kernel.accessAllowed ? 'block' : 'none';\n",
              "\n",
              "        async function convertToInteractive(key) {\n",
              "          const element = document.querySelector('#df-129d759e-c092-414b-915e-268666657576');\n",
              "          const dataTable =\n",
              "            await google.colab.kernel.invokeFunction('convertToInteractive',\n",
              "                                                     [key], {});\n",
              "          if (!dataTable) return;\n",
              "\n",
              "          const docLinkHtml = 'Like what you see? Visit the ' +\n",
              "            '<a target=\"_blank\" href=https://colab.research.google.com/notebooks/data_table.ipynb>data table notebook</a>'\n",
              "            + ' to learn more about interactive tables.';\n",
              "          element.innerHTML = '';\n",
              "          dataTable['output_type'] = 'display_data';\n",
              "          await google.colab.output.renderOutput(dataTable, element);\n",
              "          const docLink = document.createElement('div');\n",
              "          docLink.innerHTML = docLinkHtml;\n",
              "          element.appendChild(docLink);\n",
              "        }\n",
              "      </script>\n",
              "    </div>\n",
              "  </div>\n",
              "  "
            ]
          },
          "metadata": {},
          "execution_count": 48
        }
      ]
    },
    {
      "cell_type": "code",
      "source": [
        "#create new DataFrame \n",
        "monthly_sales = pd.DataFrame()\n",
        "\n",
        "monthly_sales['Sales'] = fsales['Sales'].resample('MS').mean()\n",
        "\n",
        "#plot monthly sales data\n",
        "plt.plot(monthly_sales.index, monthly_sales.Sales, linewidth=3)"
      ],
      "metadata": {
        "colab": {
          "base_uri": "https://localhost:8080/",
          "height": 282
        },
        "id": "DZdani1Remel",
        "outputId": "01ba43b5-3a81-4704-d813-2fba4c53c19b"
      },
      "execution_count": 49,
      "outputs": [
        {
          "output_type": "execute_result",
          "data": {
            "text/plain": [
              "[<matplotlib.lines.Line2D at 0x7fd14d1a2910>]"
            ]
          },
          "metadata": {},
          "execution_count": 49
        },
        {
          "output_type": "display_data",
          "data": {
            "text/plain": [
              "<Figure size 432x288 with 1 Axes>"
            ],
            "image/png": "[encoded data removed]"
          },
          "metadata": {
            "needs_background": "light"
          }
        }
      ]
    },
    {
      "cell_type": "markdown",
      "source": [
        "##Spliting data into features and labels\n",
        "\n",
        "Features are separated as predictors (X) and target (y)"
      ],
      "metadata": {
        "id": "Tw1pRZqKNeRj"
      }
    },
    {
      "cell_type": "code",
      "source": [],
      "metadata": {
        "id": "mHJ-h3jy3R2O"
      },
      "execution_count": null,
      "outputs": []
    },
    {
      "cell_type": "code",
      "source": [
        "\n",
        "\n",
        "X = fsales.drop('Sales',axis=1)\n",
        "X = fsales.iloc[:, :].values\n",
        "y = fsales['Sales'].values\n"
      ],
      "metadata": {
        "colab": {
          "base_uri": "https://localhost:8080/"
        },
        "id": "xMuVHw4xQC1W",
        "outputId": "342f2537-f1fc-4688-89e9-2105f0381c34"
      },
      "execution_count": 57,
      "outputs": [
        {
          "output_type": "execute_result",
          "data": {
            "text/plain": [
              "array([261.96  , 731.94  , 957.5775, ...,  85.98  ,  25.248 ,  91.96  ])"
            ]
          },
          "metadata": {},
          "execution_count": 57
        }
      ]
    },
    {
      "cell_type": "markdown",
      "source": [
        "#Splitting the dataset into the Training set and Test set\n",
        "\n",
        "For traing and testing purposes, and avoiding infomation leakage, the data is split before scaling. A ratio of 80:20 was chosen. This can be change for experimental purposes to seek to achieve a higher purfoming model."
      ],
      "metadata": {
        "id": "z3OOfWTzSJy9"
      }
    },
    {
      "cell_type": "code",
      "source": [
        "\n",
        "from sklearn.model_selection import train_test_split\n",
        "X_train, X_test, y_train, y_test = train_test_split(X, y, test_size = 0.2, random_state = 1)\n"
      ],
      "metadata": {
        "id": "FamOfSjzLz7-"
      },
      "execution_count": 58,
      "outputs": []
    },
    {
      "cell_type": "code",
      "source": [
        "print(X_train)"
      ],
      "metadata": {
        "colab": {
          "base_uri": "https://localhost:8080/"
        },
        "id": "h6pVI6EOMmTd",
        "outputId": "f17c4f9d-d650-4a2f-c064-ea1b54c777e0"
      },
      "execution_count": 59,
      "outputs": [
        {
          "output_type": "stream",
          "name": "stdout",
          "text": [
            "[[3.55600e+01 7.00000e+00 0.00000e+00 ... 0.00000e+00 1.00000e+00\n",
            "  0.00000e+00]\n",
            " [9.75680e+01 2.00000e+00 2.00000e-01 ... 1.00000e+00 0.00000e+00\n",
            "  0.00000e+00]\n",
            " [8.36592e+02 8.00000e+00 4.00000e-01 ... 0.00000e+00 0.00000e+00\n",
            "  1.00000e+00]\n",
            " ...\n",
            " [9.66700e+02 5.00000e+00 3.00000e-01 ... 1.00000e+00 0.00000e+00\n",
            "  0.00000e+00]\n",
            " [3.43920e+02 4.00000e+00 0.00000e+00 ... 0.00000e+00 0.00000e+00\n",
            "  1.00000e+00]\n",
            " [8.54400e+00 4.00000e+00 2.00000e-01 ... 0.00000e+00 1.00000e+00\n",
            "  0.00000e+00]]\n"
          ]
        }
      ]
    },
    {
      "cell_type": "markdown",
      "source": [
        "The data is now at the same scale to avoid noise in the data."
      ],
      "metadata": {
        "id": "FhhxXyu24Geb"
      }
    },
    {
      "cell_type": "markdown",
      "source": [
        "#Feature Scaling"
      ],
      "metadata": {
        "id": "2SEz2ep3Sdu8"
      }
    },
    {
      "cell_type": "code",
      "source": [
        "from sklearn.preprocessing import StandardScaler\n",
        "sc = StandardScaler()\n",
        "X_train[:, :] = sc.fit_transform(X_train[:, :])\n",
        "X_test[:, :] = sc.transform(X_test[:, :])"
      ],
      "metadata": {
        "id": "y2K8yzLpSgq2"
      },
      "execution_count": 60,
      "outputs": []
    },
    {
      "cell_type": "code",
      "source": [
        "print(X_train)"
      ],
      "metadata": {
        "colab": {
          "base_uri": "https://localhost:8080/"
        },
        "id": "KdE1yHMlTCa1",
        "outputId": "e668f886-9b5e-4cf0-d509-f62ea36ec853"
      },
      "execution_count": 32,
      "outputs": [
        {
          "output_type": "stream",
          "name": "stdout",
          "text": [
            "[[ 1.41075834 -0.96181239  0.04857424]\n",
            " [-0.80629702  0.13268158 -0.08374207]\n",
            " [ 1.85416942  1.22717555 -1.96661674]\n",
            " ...\n",
            " [ 0.5239362   0.67992857 -0.13984505]\n",
            " [ 0.08052512 -0.96181239  0.51104551]\n",
            " [ 0.08052512  0.13268158 -0.02539556]]\n"
          ]
        }
      ]
    },
    {
      "cell_type": "markdown",
      "source": [
        "#4. Modelling-Random Forest Regression\n",
        "\n",
        "##Training a Random Forest Regression Model"
      ],
      "metadata": {
        "id": "R6Ui9sKya-NA"
      }
    },
    {
      "cell_type": "code",
      "source": [
        "from sklearn.ensemble import RandomForestRegressor\n",
        "randmfr = RandomForestRegressor(n_estimators = 100, random_state = 0)\n",
        "randmfr.fit(X_train, y_train)"
      ],
      "metadata": {
        "colab": {
          "base_uri": "https://localhost:8080/"
        },
        "id": "9RIfIANbTkhc",
        "outputId": "d93bb46f-68dc-4826-a793-bec92b28ac19"
      },
      "execution_count": 62,
      "outputs": [
        {
          "output_type": "execute_result",
          "data": {
            "text/plain": [
              "RandomForestRegressor(random_state=0)"
            ]
          },
          "metadata": {},
          "execution_count": 62
        }
      ]
    },
    {
      "cell_type": "markdown",
      "source": [
        "Evaluation of random forest using Cross validation, K=10"
      ],
      "metadata": {
        "id": "w3qRxtB8RHS1"
      }
    },
    {
      "cell_type": "code",
      "source": [
        "from sklearn.model_selection import cross_val_score\n",
        "randmfr_accuracy = cross_val_score(estimator = randmfr, X = X_train, y = y_train, cv = 10)\n",
        "print(\"Accuracy: {:.2f} %\".format(randmfr_accuracy.mean()*100))\n",
        "print(\"Standard Deviation: {:.2f} %\".format(randmfr_accuracy.std()*100))"
      ],
      "metadata": {
        "colab": {
          "base_uri": "https://localhost:8080/"
        },
        "id": "JLTopqZtRIU7",
        "outputId": "b563f69b-0264-486c-f9d5-4f081c562651"
      },
      "execution_count": 63,
      "outputs": [
        {
          "output_type": "stream",
          "name": "stdout",
          "text": [
            "Accuracy: 99.90 %\n",
            "Standard Deviation: 0.14 %\n"
          ]
        }
      ]
    },
    {
      "cell_type": "markdown",
      "source": [
        "#5. Evaluation-Random Forest\n",
        "##Using Test Dataset yo predict the fitted model"
      ],
      "metadata": {
        "id": "RLIn24hOR_ZR"
      }
    },
    {
      "cell_type": "code",
      "source": [
        "randmfr_y_pred = randmfr.predict(X_test)\n",
        "randmfr_y_pred"
      ],
      "metadata": {
        "colab": {
          "base_uri": "https://localhost:8080/"
        },
        "id": "hffBs3ccR-Zj",
        "outputId": "bf54848a-6872-4783-cd06-4722a641480d"
      },
      "execution_count": 64,
      "outputs": [
        {
          "output_type": "execute_result",
          "data": {
            "text/plain": [
              "array([9.11075240e+01, 2.26166400e+01, 8.40925000e+01, 9.09405300e+02,\n",
              "       2.39535440e+02, 3.11150260e+02, 1.21146100e+02, 8.80566000e+00,\n",
              "       6.33260000e+01, 2.11919200e+01, 3.11363440e+02, 3.66644154e+02,\n",
              "       1.21273835e+03, 3.86597055e+02, 4.78190980e+02, 3.13210840e+02,\n",
              "       6.03225900e+02, 1.89134400e+01, 1.41384172e+03, 2.01570596e+03,\n",
              "       2.28348800e+01, 2.09974690e+02, 1.00668076e+03, 7.62135590e+02,\n",
              "       1.47576000e+01, 1.54046400e+01, 1.55454840e+02, 2.10678230e+02,\n",
              "       2.22604800e+01, 2.20507480e+02, 1.41559352e+03, 1.74981600e+01,\n",
              "       1.22171240e+02, 1.61730800e+01, 8.40592320e+02, 1.11040380e+02,\n",
              "       1.15957000e+01, 7.63199000e+02, 2.91058920e+02, 4.03232400e+01,\n",
              "       1.43558200e+01, 1.51860870e+03, 4.78625580e+02, 2.13343410e+02,\n",
              "       2.26712000e+01, 1.91835675e+02, 1.94346000e+01, 1.22415533e+03,\n",
              "       5.62810085e+02, 6.67415120e+01, 1.95220400e+01, 1.27350000e+02,\n",
              "       1.13829400e+02, 1.83978640e+02, 2.14783100e+02, 4.36196550e+02,\n",
              "       1.84697000e+02, 7.06242400e+01, 4.03170890e+03, 7.05802400e+01,\n",
              "       8.53842000e+00, 5.22169000e+02, 1.22131800e+01, 1.70191580e+02,\n",
              "       4.82983350e+02, 1.00014200e+01, 1.46197790e+02, 1.64835240e+02,\n",
              "       3.52131400e+01, 4.08438624e+02, 1.46193860e+03, 3.67588000e+00,\n",
              "       4.03307000e+01, 6.25742326e+02, 5.18652800e+01, 7.21686800e+01,\n",
              "       3.07011100e+02, 3.19808000e+01, 3.88441600e+02, 2.27549400e+01,\n",
              "       6.21096000e+00, 3.28001400e+01, 1.54212400e+01, 1.72701825e+02,\n",
              "       6.57468700e+02, 7.93730000e+00, 1.44368600e+01, 3.50584660e+02,\n",
              "       1.20806500e+02, 1.86516720e+02, 3.21417340e+02, 5.43447740e+02,\n",
              "       1.45667400e+01, 4.98854885e+02, 1.84627560e+02, 1.92037675e+02,\n",
              "       1.61353920e+02, 5.48688000e+01, 2.11295700e+02, 3.88512930e+02,\n",
              "       1.48499770e+03, 2.57005000e+01, 8.42021020e+02, 6.91774700e+01,\n",
              "       1.28052630e+03, 1.72033800e+02, 5.12557550e+02, 1.20148340e+02,\n",
              "       8.23953360e+02, 3.46085000e+01, 1.83448900e+02, 8.63542800e+01,\n",
              "       1.46131530e+02, 9.14556600e+01, 5.18082800e+01, 3.89592525e+02,\n",
              "       2.66017000e+01, 7.62797550e+02, 1.55644946e+03, 2.43089600e+01,\n",
              "       2.05498088e+02, 1.70785200e+01, 9.52274000e+00, 4.90364000e+00,\n",
              "       1.45745800e+01, 1.26760260e+02, 6.97522520e+02, 2.83915140e+02,\n",
              "       1.77114715e+02, 2.15819170e+02, 5.12501445e+02, 2.45234620e+02,\n",
              "       2.21962440e+02, 8.14385300e+01, 9.12986200e+01, 7.53047400e+01,\n",
              "       3.49538600e+01, 2.73936000e+01, 5.89365460e+02, 6.15603800e+01,\n",
              "       1.51753800e+01, 4.46239800e+01, 3.48046110e+02, 3.50353453e+03,\n",
              "       2.26630800e+01, 6.19220200e+01, 3.14165160e+02, 2.04964580e+02,\n",
              "       1.42042300e+02, 4.09415716e+02, 1.61005724e+03, 4.73706440e+02,\n",
              "       1.13309860e+02, 3.84382952e+02, 3.83303877e+02, 6.82004340e+02,\n",
              "       5.33816000e+00, 1.41384172e+03, 1.68211170e+03, 5.16964000e+01,\n",
              "       1.70334780e+02, 1.76862830e+02, 1.22589300e+02, 5.95668370e+02,\n",
              "       6.01336600e+01, 1.25235860e+03, 1.46173540e+02, 2.42109040e+02,\n",
              "       3.20748000e+00, 7.25518450e+02, 1.61368840e+02, 1.45745800e+01,\n",
              "       2.41534120e+02, 2.73456400e+01, 6.09804260e+02, 1.74009785e+02,\n",
              "       2.30162960e+02, 8.01567780e+02, 7.68409200e+01, 1.04681250e+02,\n",
              "       2.03097600e+01, 3.19536800e+01, 9.67043691e+02, 1.86171240e+02,\n",
              "       1.91766955e+02, 6.86197320e+01, 2.09899980e+02, 3.18134700e+02,\n",
              "       2.42092400e+02, 1.60119520e+02, 4.55505020e+02, 2.54323840e+02,\n",
              "       1.87388540e+02, 1.85996800e+02, 2.03007000e+03, 8.99228070e+02,\n",
              "       5.10206735e+02, 3.59426310e+02, 1.60474092e+03, 2.40778880e+02,\n",
              "       4.69610400e+01, 1.29723240e+02, 2.81387680e+02, 3.03366800e+01,\n",
              "       1.97999600e+01, 1.24110120e+02, 1.28805060e+02, 5.16024830e+02,\n",
              "       3.88673225e+02, 3.18704800e+01, 2.04739952e+02, 4.77386000e+00,\n",
              "       2.73999000e+01, 2.57912970e+02, 3.21883340e+02, 2.68724140e+02,\n",
              "       3.93268980e+02, 1.47612000e+01, 5.63254040e+02, 3.80231140e+02,\n",
              "       7.11007800e+01, 9.75852415e+02, 2.54466240e+02, 9.92561200e+01,\n",
              "       2.76192900e+02, 5.99935320e+02, 2.66716200e+01, 1.12271436e+03,\n",
              "       4.70725600e+01, 2.54498200e+02, 4.19740000e+00, 1.89449600e+01,\n",
              "       1.36626900e+02, 2.51458200e+01, 5.18125400e+01, 2.39599800e+01,\n",
              "       5.80551200e+01, 1.42300480e+02, 1.67524000e+01, 2.89515850e+02,\n",
              "       2.86654120e+02, 3.03361600e+01, 2.11594400e+01, 9.72298400e+01,\n",
              "       7.91962000e+00, 3.55519760e+02, 2.12097080e+02, 3.48354220e+02,\n",
              "       1.73032155e+02, 2.30058560e+02, 6.03317760e+02, 1.09841640e+02,\n",
              "       9.94320000e+00, 1.08744500e+02, 4.69988260e+02, 2.07053192e+02,\n",
              "       5.32856600e+01, 8.01010170e+02, 6.01772466e+02, 1.29870520e+02,\n",
              "       2.51703400e+01, 3.62508230e+02, 1.45576220e+03, 6.62439920e+01,\n",
              "       3.44260920e+02, 2.88584430e+02, 3.54901100e+01, 6.28555600e+01,\n",
              "       4.11455892e+02, 3.99441350e+02, 8.23205200e+01, 1.81945230e+02,\n",
              "       2.18416600e+02, 1.39953200e+02, 3.89270800e+02, 9.77370371e+02,\n",
              "       1.80192488e+03, 3.99818000e+01, 4.52114620e+02, 3.81260000e+00,\n",
              "       1.24287060e+02, 7.79177840e+01, 3.28092260e+02, 3.02941545e+02,\n",
              "       2.43326800e+01, 3.62566510e+02, 7.95083320e+01, 2.46924000e+00,\n",
              "       4.70561600e+01, 1.47510000e+01, 2.39443600e+01, 3.89965075e+02,\n",
              "       9.32968000e+00, 8.71451440e+02, 6.79892880e+01, 2.21196110e+02,\n",
              "       4.76932000e+00, 5.19099200e+01, 3.93256670e+02, 5.05823360e+02,\n",
              "       8.01010170e+02, 1.55194060e+02, 2.06201600e+02, 1.45996900e+02,\n",
              "       6.07318600e+01, 2.98983086e+02, 1.27967660e+02, 6.94146880e+02,\n",
              "       1.99361200e+01, 6.01011260e+02, 1.19345950e+03, 2.66455600e+01,\n",
              "       2.83366000e+01, 4.31178800e+01, 1.91990539e+02, 1.99896390e+02,\n",
              "       2.22136000e+01, 7.99063160e+02, 8.71868100e+02, 4.93328100e+02,\n",
              "       3.27813760e+02, 2.84011620e+02, 2.53690120e+02, 3.37852690e+02,\n",
              "       5.46887300e+02, 7.18081560e+02, 1.49012750e+02, 8.73288000e+00,\n",
              "       1.65986360e+02, 2.01224770e+02, 1.02331930e+02, 2.04655352e+02,\n",
              "       2.53866400e+01, 3.37875350e+02, 5.28996000e+00, 6.38732800e+01,\n",
              "       9.19001500e+01, 2.45926000e+00, 5.82338020e+02, 1.61203358e+03,\n",
              "       1.75147926e+03, 2.23330000e+00, 1.41776400e+01, 2.04729764e+02,\n",
              "       4.24431600e+01, 3.89090200e+01, 3.21765780e+02, 1.41978620e+02,\n",
              "       2.16202740e+02, 2.15394790e+02, 1.23767200e+01, 1.14495200e+01,\n",
              "       1.09833610e+02, 2.82620811e+03, 9.99262000e+00, 7.12471240e+02,\n",
              "       2.73666600e+02, 8.59542400e+01, 5.70736400e+02, 9.32968000e+00,\n",
              "       6.38887200e+01, 7.92692540e+01, 6.03774230e+02, 1.47564000e+01,\n",
              "       1.81195000e+02, 3.90374000e+00, 3.07980800e+01, 1.04576326e+03,\n",
              "       3.53363500e+01, 3.96456315e+03, 1.05600058e+03, 1.24896200e+01,\n",
              "       8.92807120e+02, 6.00021590e+02, 5.56785020e+02, 1.06886600e+01,\n",
              "       5.78808860e+02, 1.47402800e+01, 3.81410600e+01, 1.27866260e+02,\n",
              "       6.22016000e+00, 2.58949920e+03, 1.29959240e+02, 4.08625680e+02,\n",
              "       7.49478520e+02, 8.00743240e+02, 2.02764000e+01, 2.54445490e+02,\n",
              "       6.89975100e+01, 5.69490760e+02, 1.01511620e+02, 6.39105000e+01,\n",
              "       6.98106360e+02, 5.46205440e+02, 1.20789390e+02, 5.78941160e+02,\n",
              "       3.50068000e+01, 2.46549380e+02, 2.33624788e+03, 1.29560660e+02,\n",
              "       3.07561870e+02, 9.16388808e+02, 3.07380000e+00, 2.80252000e+00,\n",
              "       3.16788800e+01, 5.17521380e+02, 2.83814347e+03, 4.02914800e+01,\n",
              "       2.42307680e+02, 5.70736400e+02, 3.19722400e+01, 1.05484010e+02,\n",
              "       1.42411200e+01, 3.04320385e+02, 4.74290400e+01, 2.73863420e+02,\n",
              "       3.07343800e+02, 3.08140800e+01, 2.42521600e+01, 6.07145800e+01,\n",
              "       3.82777156e+02, 7.97428380e+01, 2.42235740e+02, 6.63136280e+02,\n",
              "       1.41830266e+03])"
            ]
          },
          "metadata": {},
          "execution_count": 64
        }
      ]
    },
    {
      "cell_type": "markdown",
      "source": [
        "## Root Mean Squared Error"
      ],
      "metadata": {
        "id": "Y7Vz_U5HTK67"
      }
    },
    {
      "cell_type": "code",
      "source": [
        "randmfr_rmse= math.sqrt(sklearn.metrics.mean_squared_error(y_test,randmfr_y_pred))\n",
        "randmfr_rmse"
      ],
      "metadata": {
        "colab": {
          "base_uri": "https://localhost:8080/"
        },
        "id": "RxHvQECbTKpi",
        "outputId": "f292481d-25fb-4055-ffd4-a6ec0f97b882"
      },
      "execution_count": 67,
      "outputs": [
        {
          "output_type": "execute_result",
          "data": {
            "text/plain": [
              "28.559602829810657"
            ]
          },
          "metadata": {},
          "execution_count": 67
        }
      ]
    },
    {
      "cell_type": "markdown",
      "source": [
        "## USING RANDOMIZED SEACRH CV TO TUNE THE HYPER PARAMTERS "
      ],
      "metadata": {
        "id": "FQ1PFvbZUwPd"
      }
    },
    {
      "cell_type": "code",
      "source": [
        "from sklearn.model_selection import RandomizedSearchCV\n",
        "parameters = [{'n_estimators': [140,180,240,260,270,290],\n",
        "               'max_depth':[3.9,3.8,4,4.2,4.1]}]\n",
        "randmfr_grid_search = RandomizedSearchCV(estimator = randmfr,\n",
        "                           param_distributions = parameters,\n",
        "                           n_iter=10,\n",
        "                           cv = 10,\n",
        "                           n_jobs = -1)\n",
        "randmfr_grid_search = randmfr_grid_search.fit(X_train, y_train)\n",
        "randmfr_best_score = randmfr_grid_search.best_score_\n",
        "randmfr_best_parameters =randmfr_grid_search.best_params_\n",
        "print(\"Best Score: {:.2f} %\".format(randmfr_best_score*100))\n",
        "print(\"Best Parameters:\", randmfr_best_parameters)"
      ],
      "metadata": {
        "colab": {
          "base_uri": "https://localhost:8080/"
        },
        "id": "M_HoJuY0UmTE",
        "outputId": "c2532742-1bba-472e-a7c4-309d8865c67a"
      },
      "execution_count": 68,
      "outputs": [
        {
          "output_type": "stream",
          "name": "stdout",
          "text": [
            "Best Score: 99.77 %\n",
            "Best Parameters: {'n_estimators': 180, 'max_depth': 4}\n"
          ]
        }
      ]
    },
    {
      "cell_type": "code",
      "source": [
        "parameters = [{'n_estimators': [200,260],\n",
        "               'max_depth':[4,4.08,4.09,4.07]}]\n",
        "randmfr_grid_search = RandomizedSearchCV(estimator = randmfr,\n",
        "                           param_distributions = parameters,\n",
        "                           n_iter=10,\n",
        "                           cv = 10,\n",
        "                           n_jobs = -1)\n",
        "randmfr_grid_search = randmfr_grid_search.fit(X_train, y_train)\n",
        "randmfr_best_score = randmfr_grid_search.best_score_\n",
        "randmfr_best_parameters = randmfr_grid_search.best_params_\n",
        "print(\"Best Score: {:.2f} %\".format(randmfr_best_score*100))\n",
        "print(\"Best Parameters:\", randmfr_best_parameters)"
      ],
      "metadata": {
        "colab": {
          "base_uri": "https://localhost:8080/"
        },
        "id": "VaV9C1wNWJZq",
        "outputId": "eaf3acf3-be84-4235-b5f1-7805def65b8d"
      },
      "execution_count": 69,
      "outputs": [
        {
          "output_type": "stream",
          "name": "stderr",
          "text": [
            "/usr/local/lib/python3.7/dist-packages/sklearn/model_selection/_search.py:296: UserWarning: The total space of parameters 8 is smaller than n_iter=10. Running 8 iterations. For exhaustive searches, use GridSearchCV.\n",
            "  UserWarning,\n"
          ]
        },
        {
          "output_type": "stream",
          "name": "stdout",
          "text": [
            "Best Score: 99.77 %\n",
            "Best Parameters: {'n_estimators': 260, 'max_depth': 4}\n"
          ]
        }
      ]
    },
    {
      "cell_type": "code",
      "source": [
        "parameters = [{'n_estimators': [280,290,300,310,320],\n",
        "               'max_depth':[4,4.07,4.08,4.06]}]\n",
        "randmfr_grid_search = RandomizedSearchCV(estimator = randmfr,\n",
        "                           param_distributions = parameters,\n",
        "                           n_iter=10,\n",
        "                           cv = 10,\n",
        "                           n_jobs = -1)\n",
        "randmfr_grid_search = randmfr_grid_search.fit(X_train, y_train)\n",
        "randmfr_best_score = randmfr_grid_search.best_score_\n",
        "randmfr_best_parameters = randmfr_grid_search.best_params_\n",
        "print(\"Best Score: {:.2f} %\".format(randmfr_best_score*100))\n",
        "print(\"Best Parameters:\", randmfr_best_parameters)"
      ],
      "metadata": {
        "colab": {
          "base_uri": "https://localhost:8080/"
        },
        "id": "FfCZUDylW8Aj",
        "outputId": "0ad01d29-3f41-474e-e897-2d69d7d2b443"
      },
      "execution_count": 70,
      "outputs": [
        {
          "output_type": "stream",
          "name": "stdout",
          "text": [
            "Best Score: 99.76 %\n",
            "Best Parameters: {'n_estimators': 280, 'max_depth': 4.06}\n"
          ]
        }
      ]
    },
    {
      "cell_type": "code",
      "source": [
        "randmfr_y_pred=randmfr_grid_search.predict(X_test)\n",
        "randmfr_y_pred"
      ],
      "metadata": {
        "colab": {
          "base_uri": "https://localhost:8080/"
        },
        "id": "vM6iSyJqXzwF",
        "outputId": "5e940346-7546-4bf6-a616-5387b52c7b74"
      },
      "execution_count": 71,
      "outputs": [
        {
          "output_type": "execute_result",
          "data": {
            "text/plain": [
              "array([  85.43517785,   25.4661601 ,   85.43517785,  882.12054809,\n",
              "        229.41805488,  316.58600984,  130.36842354,   25.4661601 ,\n",
              "         75.9946333 ,   25.4661601 ,  316.58600984,  354.67188207,\n",
              "       1223.09110423,  407.80133075,  471.31356724,  316.58600984,\n",
              "        579.66149746,   25.4661601 , 1360.49785002, 2011.41347017,\n",
              "         25.4661601 ,  219.02731991, 1043.59883144,  731.43494196,\n",
              "         25.4661601 ,   25.4661601 ,  158.11163962,  219.02731991,\n",
              "         25.4661601 ,  219.59957429, 1370.96268871,   25.4661601 ,\n",
              "        131.46897891,   25.4661601 ,  875.87041839,   90.68886971,\n",
              "         25.4661601 ,  734.29991856,  312.07802984,   25.4661601 ,\n",
              "         25.4661601 , 1550.76913738,  471.7039568 ,  219.02731991,\n",
              "         25.4661601 ,  199.84509269,   25.4661601 , 1238.3649322 ,\n",
              "        552.26606951,   80.4613285 ,   25.4661601 ,  138.29189405,\n",
              "         96.67335961,  177.53754239,  219.02731991,  422.8529893 ,\n",
              "        179.90722714,   83.98510987, 4005.99871741,   83.98510987,\n",
              "         25.4661601 ,  547.53408161,   25.4661601 ,  162.17806462,\n",
              "        479.30290708,   25.4661601 ,  149.69711066,  161.78496575,\n",
              "         25.4661601 ,  421.11269463, 1471.5196062 ,   25.4661601 ,\n",
              "         25.4661601 ,  630.15310768,   38.64721282,   84.26755514,\n",
              "        315.95710438,   25.4661601 ,  410.3448552 ,   25.4661601 ,\n",
              "         25.4661601 ,   25.4661601 ,   25.4661601 ,  162.17806462,\n",
              "        678.33262852,   25.4661601 ,   25.4661601 ,  332.18112521,\n",
              "        130.08936099,  184.42780339,  316.9348899 ,  548.48823116,\n",
              "         25.4661601 ,  533.36772862,  179.90722714,  199.84509269,\n",
              "        160.44910567,   62.48178194,  219.02731991,  410.3448552 ,\n",
              "       1509.48829039,   25.4661601 ,  875.87041839,   83.14362665,\n",
              "       1301.95670363,  162.17806462,  547.06178511,  128.21228342,\n",
              "        862.91751551,   25.4661601 ,  176.73547827,   85.43517785,\n",
              "        149.69711066,   85.43517785,   38.64721282,  413.39066402,\n",
              "         25.4661601 ,  729.9508198 , 1583.97756308,   25.4661601 ,\n",
              "        217.57722306,   25.4661601 ,   25.4661601 ,   25.4661601 ,\n",
              "         25.4661601 ,  137.70343487,  687.91036936,  300.07279232,\n",
              "        164.01445428,  219.02731991,  547.06178511,  230.13845134,\n",
              "        219.59957429,   85.43517785,   85.43517785,   85.43517785,\n",
              "         25.4661601 ,   25.4661601 ,  561.06486404,   71.4719679 ,\n",
              "         25.4661601 ,   25.4661601 ,  329.52491008, 3562.75953068,\n",
              "         25.4661601 ,   71.96716836,  316.58600984,  217.00687985,\n",
              "        143.75326725,  421.11269463, 1606.28864211,  457.58715491,\n",
              "         96.21414223,  405.08908584,  403.59956078,  685.96642262,\n",
              "         25.4661601 , 1360.49785002, 1626.85249015,   38.44607492,\n",
              "        162.17806462,  164.01445428,  131.46897891,  570.24887893,\n",
              "         70.73198659, 1290.8643978 ,  149.69711066,  229.41805488,\n",
              "         25.4661601 ,  696.11247179,  160.44910567,   25.4661601 ,\n",
              "        229.41805488,   25.4661601 ,  596.11160618,  162.17806462,\n",
              "        221.84369214,  821.32416592,   85.43517785,   85.83275157,\n",
              "         25.4661601 ,   25.4661601 ,  940.33546306,  183.89999278,\n",
              "        199.84509269,   83.14362665,  219.02731991,  316.58600984,\n",
              "        229.41805488,  159.86438292,  426.99555451,  238.03294476,\n",
              "        187.72250312,  182.83737544, 2015.68064676,  880.49583465,\n",
              "        545.52035126,  347.15624197, 1599.92656747,  229.41805488,\n",
              "         25.64234709,  138.29189405,  296.90055998,   25.4661601 ,\n",
              "         25.4661601 ,  135.73808961,  138.29189405,  547.53408161,\n",
              "        411.85303087,   25.4661601 ,  217.00687985,   25.4661601 ,\n",
              "         25.4661601 ,  239.46937346,  316.9348899 ,  264.04238139,\n",
              "        417.87581557,   25.4661601 ,  552.26606951,  393.56500935,\n",
              "         83.98510987,  974.07729412,  238.03294476,   85.64199561,\n",
              "        275.18559707,  575.43029747,   25.4661601 , 1090.50894284,\n",
              "         25.64234709,  238.03294476,   25.4661601 ,   25.4661601 ,\n",
              "        139.24130893,   25.4661601 ,   38.64721282,   25.4661601 ,\n",
              "         67.87472908,  144.05809116,   25.4661601 ,  311.74781893,\n",
              "        306.77359188,   25.4661601 ,   25.4661601 ,   85.43517785,\n",
              "         25.4661601 ,  339.04494047,  219.02731991,  329.90462027,\n",
              "        162.17806462,  221.84369214,  579.66149746,   88.11952715,\n",
              "         25.4661601 ,   86.06855499,  442.85521608,  218.13382547,\n",
              "         51.23785578,  821.32416592,  579.20495596,  138.29189405,\n",
              "         25.4661601 ,  352.84648153, 1459.95589195,   80.4613285 ,\n",
              "        326.69199262,  310.75888869,   25.4661601 ,   74.97415501,\n",
              "        421.11269463,  421.11269463,   85.43517785,  176.45754335,\n",
              "        219.59957429,  142.76299878,  412.25364819,  974.07729412,\n",
              "       1751.60849198,   25.4661601 ,  426.04595497,   25.4661601 ,\n",
              "        135.73808961,   85.43517785,  319.04990002,  315.95710438,\n",
              "         25.4661601 ,  352.84648153,   85.43517785,   25.4661601 ,\n",
              "         25.64234709,   25.4661601 ,   25.4661601 ,  413.39066402,\n",
              "         25.4661601 ,  878.20853028,   83.14362665,  219.59957429,\n",
              "         25.4661601 ,   38.64721282,  417.87581557,  539.10154934,\n",
              "        821.32416592,  158.11163962,  217.86900465,  149.69711066,\n",
              "         70.98106001,  315.95710438,  138.29189405,  687.24652952,\n",
              "         25.4661601 ,  579.20495596, 1193.46535901,   25.4661601 ,\n",
              "         25.4661601 ,   25.4661601 ,  199.84509269,  209.33533295,\n",
              "         25.4661601 ,  820.65768199,  878.20853028,  506.23545719,\n",
              "        319.04990002,  300.07279232,  238.03294476,  323.94384763,\n",
              "        549.08302514,  694.55963306,  153.86076764,   25.4661601 ,\n",
              "        161.78496575,  211.04464431,   85.83275157,  217.00687985,\n",
              "         25.4661601 ,  323.94384763,   25.4661601 ,   75.9946333 ,\n",
              "         85.43517785,   25.4661601 ,  556.85402861, 1606.28864211,\n",
              "       1682.20597145,   25.4661601 ,   25.4661601 ,  217.2979173 ,\n",
              "         25.4661601 ,   25.4661601 ,  316.9348899 ,  143.75326725,\n",
              "        219.02731991,  219.02731991,   25.4661601 ,   25.4661601 ,\n",
              "         88.11952715, 2728.70883969,   25.4661601 ,  691.15265575,\n",
              "        273.10414286,   85.43517785,  553.16298404,   25.4661601 ,\n",
              "         75.9946333 ,   85.43517785,  579.66149746,   25.4661601 ,\n",
              "        175.40544783,   25.4661601 ,   25.4661601 , 1067.47322284,\n",
              "         25.4661601 , 3930.39530045, 1070.29352036,   25.4661601 ,\n",
              "        880.49583465,  575.43029747,  551.78041699,   25.4661601 ,\n",
              "        555.00755282,   25.4661601 ,   25.4661601 ,  138.29189405,\n",
              "         25.4661601 , 2613.28449096,  138.29189405,  421.11269463,\n",
              "        713.24824487,  821.32416592,   25.4661601 ,  238.03294476,\n",
              "         83.14362665,  553.16298404,   85.83275157,   75.9946333 ,\n",
              "        687.91036936,  549.08302514,  130.08936099,  555.00755282,\n",
              "         25.4661601 ,  230.51175766, 2345.60411082,  138.29189405,\n",
              "        315.95710438,  882.12054809,   25.4661601 ,   25.4661601 ,\n",
              "         25.4661601 ,  547.53408161, 2728.70883969,   25.4661601 ,\n",
              "        229.41805488,  553.16298404,   25.4661601 ,   85.83275157,\n",
              "         25.4661601 ,  315.95710438,   25.64234709,  273.10414286,\n",
              "        315.95710438,   25.4661601 ,   25.4661601 ,   70.98106001,\n",
              "        403.21132571,   85.43517785,  229.41805488,  681.60244394,\n",
              "       1370.96268871])"
            ]
          },
          "metadata": {},
          "execution_count": 71
        }
      ]
    },
    {
      "cell_type": "markdown",
      "source": [
        "##Root Mean Squared Error after tuning the Hyper Parameters"
      ],
      "metadata": {
        "id": "qcINMltxYSjp"
      }
    },
    {
      "cell_type": "code",
      "source": [
        "randmfr_rmse= math.sqrt(sklearn.metrics.mean_squared_error(y_test,randmfr_y_pred))\n",
        "randmfr_rmse"
      ],
      "metadata": {
        "colab": {
          "base_uri": "https://localhost:8080/"
        },
        "id": "kog18i77Xzux",
        "outputId": "2a039d76-b8f0-41af-a285-1641329feaf2"
      },
      "execution_count": 72,
      "outputs": [
        {
          "output_type": "execute_result",
          "data": {
            "text/plain": [
              "35.20542677725473"
            ]
          },
          "metadata": {},
          "execution_count": 72
        }
      ]
    },
    {
      "cell_type": "markdown",
      "source": [
        "There is a slight decrease in the accuracy of the model from a RMSE of 28.6 to 35.2 after using the randomized search CV to tune the hyper parameters."
      ],
      "metadata": {
        "id": "3RE8Hs3LYwWR"
      }
    },
    {
      "cell_type": "markdown",
      "source": [
        "#4. Modelling-Decision Tree\n",
        "\n",
        "##Training a Decision Tree Regression Model"
      ],
      "metadata": {
        "id": "Djp3Z95-auI4"
      }
    },
    {
      "cell_type": "code",
      "source": [
        "from sklearn.tree import DecisionTreeRegressor\n",
        "decntree = DecisionTreeRegressor(random_state = 0)\n",
        "decntree.fit(X_train, y_train)"
      ],
      "metadata": {
        "colab": {
          "base_uri": "https://localhost:8080/"
        },
        "id": "PRJsNus8bNGh",
        "outputId": "8678d67b-1b2d-4821-9b0b-a00f7824123e"
      },
      "execution_count": 73,
      "outputs": [
        {
          "output_type": "execute_result",
          "data": {
            "text/plain": [
              "DecisionTreeRegressor(random_state=0)"
            ]
          },
          "metadata": {},
          "execution_count": 73
        }
      ]
    },
    {
      "cell_type": "code",
      "source": [
        "from sklearn.model_selection import cross_val_score\n",
        "accuracy = cross_val_score(estimator = decntree, X = X_train, y = y_train, cv = 10)\n",
        "print(\"Accuracy: {:.2f} %\".format(accuracy.mean()*100))\n",
        "print(\"Standard Deviation: {:.2f} %\".format(accuracy.std()*100))"
      ],
      "metadata": {
        "colab": {
          "base_uri": "https://localhost:8080/"
        },
        "id": "uZnMgqm0bdbe",
        "outputId": "15946c03-7010-47e0-9e26-7818c42eae31"
      },
      "execution_count": 74,
      "outputs": [
        {
          "output_type": "stream",
          "name": "stdout",
          "text": [
            "Accuracy: 99.83 %\n",
            "Standard Deviation: 0.12 %\n"
          ]
        }
      ]
    },
    {
      "cell_type": "markdown",
      "source": [
        "#5. Evaluation-Decision Tree\n",
        "##Predicting using the test dataset with the fitted model"
      ],
      "metadata": {
        "id": "W2Eq8LACcNaI"
      }
    },
    {
      "cell_type": "code",
      "source": [
        "decntree_y_pred = decntree.predict(X_test)\n",
        "decntree_y_pred"
      ],
      "metadata": {
        "colab": {
          "base_uri": "https://localhost:8080/"
        },
        "id": "GyGNM-5IbxXU",
        "outputId": "38276757-ce99-4add-a8d0-c913ff08a7bc"
      },
      "execution_count": 75,
      "outputs": [
        {
          "output_type": "execute_result",
          "data": {
            "text/plain": [
              "array([9.099000e+01, 2.260800e+01, 8.395200e+01, 9.097200e+02,\n",
              "       2.396660e+02, 3.108800e+02, 1.219600e+02, 8.752000e+00,\n",
              "       6.320000e+01, 2.144000e+01, 3.107440e+02, 3.667440e+02,\n",
              "       1.212960e+03, 3.871360e+02, 4.784800e+02, 3.131760e+02,\n",
              "       6.039200e+02, 1.896000e+01, 1.454900e+03, 2.003920e+03,\n",
              "       2.260800e+01, 2.099790e+02, 1.013488e+03, 7.656250e+02,\n",
              "       1.476000e+01, 1.548800e+01, 1.558800e+02, 2.106800e+02,\n",
              "       2.228800e+01, 2.209600e+02, 1.421664e+03, 1.747200e+01,\n",
              "       1.213760e+02, 1.619200e+01, 8.429400e+02, 1.111500e+02,\n",
              "       1.156800e+01, 7.601160e+02, 2.911360e+02, 4.056000e+01,\n",
              "       1.436800e+01, 1.526560e+03, 4.784800e+02, 2.132160e+02,\n",
              "       2.260800e+01, 1.918200e+02, 1.952000e+01, 1.228465e+03,\n",
              "       5.632400e+02, 6.669000e+01, 1.930000e+01, 1.273020e+02,\n",
              "       1.139200e+02, 1.839200e+02, 2.155440e+02, 4.359990e+02,\n",
              "       1.847520e+02, 7.044800e+01, 4.228704e+03, 7.044800e+01,\n",
              "       8.544000e+00, 5.232600e+02, 1.222000e+01, 1.700580e+02,\n",
              "       4.831360e+02, 9.940000e+00, 1.463520e+02, 1.650480e+02,\n",
              "       3.516800e+01, 4.084220e+02, 1.408100e+03, 3.312000e+00,\n",
              "       4.056000e+01, 6.263520e+02, 5.196000e+01, 7.197000e+01,\n",
              "       3.071360e+02, 3.198400e+01, 3.899700e+02, 2.272000e+01,\n",
              "       6.280000e+00, 3.271200e+01, 1.548800e+01, 1.727640e+02,\n",
              "       6.587460e+02, 8.010000e+00, 1.436800e+01, 3.509800e+02,\n",
              "       1.206660e+02, 1.865400e+02, 3.194100e+02, 5.440080e+02,\n",
              "       1.436800e+01, 4.982600e+02, 1.847520e+02, 1.922200e+02,\n",
              "       1.615680e+02, 5.476800e+01, 2.113720e+02, 3.899700e+02,\n",
              "       1.487040e+03, 2.583000e+01, 8.441160e+02, 6.908000e+01,\n",
              "       1.282410e+03, 1.732080e+02, 5.130240e+02, 1.198330e+02,\n",
              "       8.218800e+02, 3.458000e+01, 1.833720e+02, 8.662000e+01,\n",
              "       1.463520e+02, 9.196000e+01, 5.175000e+01, 3.899700e+02,\n",
              "       2.625000e+01, 7.703520e+02, 1.548990e+03, 2.440000e+01,\n",
              "       2.051760e+02, 1.708800e+01, 9.552000e+00, 4.928000e+00,\n",
              "       1.436800e+01, 1.263000e+02, 6.983520e+02, 2.839200e+02,\n",
              "       1.772250e+02, 2.149500e+02, 5.124990e+02, 2.459800e+02,\n",
              "       2.209600e+02, 8.156800e+01, 9.196000e+01, 7.476000e+01,\n",
              "       3.479000e+01, 2.746000e+01, 5.900580e+02, 6.196000e+01,\n",
              "       1.513600e+01, 4.467000e+01, 3.478020e+02, 3.393680e+03,\n",
              "       2.275200e+01, 6.154400e+01, 3.143520e+02, 2.039200e+02,\n",
              "       1.419600e+02, 4.084220e+02, 1.604900e+03, 4.701550e+02,\n",
              "       1.135680e+02, 3.849440e+02, 3.849440e+02, 6.833320e+02,\n",
              "       5.312000e+00, 1.454900e+03, 1.706184e+03, 5.156000e+01,\n",
              "       1.703520e+02, 1.775680e+02, 1.223520e+02, 5.900580e+02,\n",
              "       5.999000e+01, 1.228465e+03, 1.463520e+02, 2.419600e+02,\n",
              "       2.910000e+00, 7.239200e+02, 1.615680e+02, 1.436800e+01,\n",
              "       2.415680e+02, 2.742000e+01, 6.099800e+02, 1.739400e+02,\n",
              "       2.303520e+02, 8.015680e+02, 7.672800e+01, 1.049300e+02,\n",
              "       2.032000e+01, 3.198400e+01, 9.667000e+02, 1.885520e+02,\n",
              "       1.918200e+02, 6.870400e+01, 2.096700e+02, 3.184300e+02,\n",
              "       2.419600e+02, 1.599200e+02, 4.542720e+02, 2.546040e+02,\n",
              "       1.877600e+02, 1.847520e+02, 2.003920e+03, 8.991360e+02,\n",
              "       5.099575e+02, 3.594990e+02, 1.604900e+03, 2.407840e+02,\n",
              "       4.694000e+01, 1.295680e+02, 2.813720e+02, 3.036000e+01,\n",
              "       1.976000e+01, 1.239600e+02, 1.289000e+02, 5.175000e+02,\n",
              "       3.899700e+02, 3.198400e+01, 2.046000e+02, 4.928000e+00,\n",
              "       2.746000e+01, 2.574990e+02, 3.194100e+02, 2.699700e+02,\n",
              "       3.929400e+02, 1.476000e+01, 5.639400e+02, 3.793720e+02,\n",
              "       7.098000e+01, 9.813720e+02, 2.543520e+02, 9.937200e+01,\n",
              "       2.759520e+02, 6.015360e+02, 2.648000e+01, 1.123920e+03,\n",
              "       4.704000e+01, 2.547440e+02, 4.272000e+00, 1.896000e+01,\n",
              "       1.365300e+02, 2.516000e+01, 5.175000e+01, 2.396800e+01,\n",
              "       5.868000e+01, 1.424000e+02, 1.674000e+01, 2.895680e+02,\n",
              "       2.868500e+02, 3.036000e+01, 2.112000e+01, 9.718400e+01,\n",
              "       7.968000e+00, 3.553600e+02, 2.120580e+02, 3.478020e+02,\n",
              "       1.727640e+02, 2.302800e+02, 6.039200e+02, 1.097640e+02,\n",
              "       9.940000e+00, 1.097640e+02, 4.701550e+02, 2.069620e+02,\n",
              "       5.334000e+01, 8.015680e+02, 6.005580e+02, 1.299200e+02,\n",
              "       2.517600e+01, 3.629400e+02, 1.406860e+03, 6.611200e+01,\n",
              "       3.443720e+02, 2.895680e+02, 3.556000e+01, 6.282000e+01,\n",
              "       4.118000e+02, 3.996720e+02, 8.226000e+01, 1.819860e+02,\n",
              "       2.183520e+02, 1.399200e+02, 3.899700e+02, 9.813720e+02,\n",
              "       1.779900e+03, 3.996000e+01, 4.524500e+02, 3.984000e+00,\n",
              "       1.243600e+02, 7.795200e+01, 3.285900e+02, 3.029400e+02,\n",
              "       2.427000e+01, 3.621360e+02, 7.938400e+01, 1.892000e+00,\n",
              "       4.704000e+01, 1.476000e+01, 2.388000e+01, 3.899700e+02,\n",
              "       9.240000e+00, 8.723200e+02, 6.799320e+01, 2.207040e+02,\n",
              "       4.712000e+00, 5.196800e+01, 3.931650e+02, 5.049000e+02,\n",
              "       8.015680e+02, 1.535680e+02, 2.059992e+02, 1.463520e+02,\n",
              "       6.072000e+01, 2.981160e+02, 1.279500e+02, 6.929400e+02,\n",
              "       1.998000e+01, 6.005580e+02, 1.194165e+03, 2.648000e+01,\n",
              "       2.840000e+01, 4.302000e+01, 1.919680e+02, 1.999800e+02,\n",
              "       2.220000e+01, 7.979440e+02, 8.729400e+02, 4.934300e+02,\n",
              "       3.285900e+02, 2.843640e+02, 2.533720e+02, 3.383520e+02,\n",
              "       5.466600e+02, 7.177200e+02, 1.517200e+02, 8.752000e+00,\n",
              "       1.652800e+02, 2.010400e+02, 1.023600e+02, 2.039200e+02,\n",
              "       2.540000e+01, 3.357440e+02, 5.280000e+00, 6.382400e+01,\n",
              "       9.196000e+01, 1.892000e+00, 5.823360e+02, 1.604900e+03,\n",
              "       1.781682e+03, 1.892000e+00, 1.413600e+01, 2.046000e+02,\n",
              "       4.236800e+01, 3.897000e+01, 3.215680e+02, 1.419600e+02,\n",
              "       2.149500e+02, 2.155440e+02, 1.254400e+01, 1.135200e+01,\n",
              "       1.099000e+02, 2.803920e+03, 1.002000e+01, 7.177200e+02,\n",
              "       2.735520e+02, 8.598000e+01, 5.695680e+02, 9.240000e+00,\n",
              "       6.394000e+01, 7.885280e+01, 6.039200e+02, 1.476000e+01,\n",
              "       1.809800e+02, 4.272000e+00, 3.080000e+01, 1.043920e+03,\n",
              "       3.534000e+01, 4.228704e+03, 1.056860e+03, 1.242000e+01,\n",
              "       8.922240e+02, 6.015360e+02, 5.566650e+02, 1.068000e+01,\n",
              "       5.731740e+02, 1.476000e+01, 3.774000e+01, 1.277640e+02,\n",
              "       6.408000e+00, 2.567840e+03, 1.299200e+02, 4.092720e+02,\n",
              "       7.441000e+02, 7.979440e+02, 2.024000e+01, 2.557600e+02,\n",
              "       6.908000e+01, 5.695680e+02, 1.011200e+02, 6.394000e+01,\n",
              "       6.983520e+02, 5.458800e+02, 1.206660e+02, 5.731740e+02,\n",
              "       3.500000e+01, 2.459800e+02, 2.244480e+03, 1.299300e+02,\n",
              "       3.076660e+02, 9.187850e+02, 2.910000e+00, 2.910000e+00,\n",
              "       3.177600e+01, 5.141650e+02, 2.803920e+03, 4.048000e+01,\n",
              "       2.423520e+02, 5.695680e+02, 3.198400e+01, 1.049300e+02,\n",
              "       1.413600e+01, 3.039200e+02, 4.740000e+01, 2.739600e+02,\n",
              "       3.076660e+02, 3.080000e+01, 2.427000e+01, 6.072000e+01,\n",
              "       3.849440e+02, 7.992000e+01, 2.423520e+02, 6.658800e+02,\n",
              "       1.454900e+03])"
            ]
          },
          "metadata": {},
          "execution_count": 75
        }
      ]
    },
    {
      "cell_type": "markdown",
      "source": [
        "#Root Mean Squared Error"
      ],
      "metadata": {
        "id": "X7Q6OehAcKvq"
      }
    },
    {
      "cell_type": "code",
      "source": [
        "decntree_rmse = decntree_rmse= math.sqrt(sklearn.metrics.mean_squared_error(y_test,decntree_y_pred))  ## Root Mean Squared Error\n",
        "decntree_rmse"
      ],
      "metadata": {
        "colab": {
          "base_uri": "https://localhost:8080/"
        },
        "id": "uE5KiC4ub3ZA",
        "outputId": "6eaed4fc-4c54-42b8-d826-05898ca70134"
      },
      "execution_count": 76,
      "outputs": [
        {
          "output_type": "execute_result",
          "data": {
            "text/plain": [
              "15.705371470854427"
            ]
          },
          "metadata": {},
          "execution_count": 76
        }
      ]
    },
    {
      "cell_type": "markdown",
      "source": [
        "Hyper Parameter Tuning."
      ],
      "metadata": {
        "id": "ds-ryMrWdFr3"
      }
    },
    {
      "cell_type": "code",
      "source": [
        "parameters = [{'splitter' : [\"best\", \"random\"],\n",
        "               'max_depth':[4,6],\n",
        "              'ccp_alpha':[0.2,0.3,0.4,0.5]}]\n",
        "decntree_grid_search = RandomizedSearchCV(estimator = decntree,\n",
        "                           param_distributions = parameters,\n",
        "                           n_iter=10,\n",
        "                           cv = 10,\n",
        "                           n_jobs = -1)\n",
        "decntree_grid_search = decntree_grid_search.fit(X_train, y_train)\n",
        "decntree_best_score = decntree_grid_search.best_score_\n",
        "best_parameters = decntree_grid_search.best_params_\n",
        "print(\"Best score: {:.2f} %\".format(decntree_best_score*100))\n",
        "print(\"Best Parameters:\", best_parameters)"
      ],
      "metadata": {
        "colab": {
          "base_uri": "https://localhost:8080/"
        },
        "id": "-WN6Wj-wdEiA",
        "outputId": "44cd30b8-286e-43f1-8a60-25ca47fec690"
      },
      "execution_count": 78,
      "outputs": [
        {
          "output_type": "stream",
          "name": "stdout",
          "text": [
            "Best score: 99.80 %\n",
            "Best Parameters: {'splitter': 'best', 'max_depth': 6, 'ccp_alpha': 0.2}\n"
          ]
        }
      ]
    },
    {
      "cell_type": "code",
      "source": [
        "parameters = [{'splitter' : [\"best\"],\n",
        "               'max_depth':[4,4.7,4.8,4.9,5.1],\n",
        "              'ccp_alpha':[0.2,0.23,0.24,0.26,0.31]}]\n",
        "decntree_grid_search = RandomizedSearchCV(estimator = decntree,\n",
        "                           param_distributions = parameters,\n",
        "                           n_iter=10,\n",
        "                           cv = 10,\n",
        "                           n_jobs = -1)\n",
        "decntree_grid_search = decntree_grid_search.fit(X_train, y_train)\n",
        "decntree_best_accuracy = decntree_grid_search.best_score_\n",
        "best_parameters = decntree_grid_search.best_params_\n",
        "print(\"Best Score: {:.2f} %\".format(decntree_best_score*100))\n",
        "print(\"Best Parameters:\", best_parameters)"
      ],
      "metadata": {
        "colab": {
          "base_uri": "https://localhost:8080/"
        },
        "id": "OlIH6JB2eFaX",
        "outputId": "acad5038-97d9-4b41-d1db-3f2684841e4f"
      },
      "execution_count": 80,
      "outputs": [
        {
          "output_type": "stream",
          "name": "stdout",
          "text": [
            "Best Score: 99.80 %\n",
            "Best Parameters: {'splitter': 'best', 'max_depth': 5.1, 'ccp_alpha': 0.24}\n"
          ]
        }
      ]
    },
    {
      "cell_type": "code",
      "source": [
        "parameters = [{'splitter' : [\"best\"],\n",
        "               'max_depth':[5.2,5.25,4.9,5.4,5.9,6.4],\n",
        "              'ccp_alpha':[0.231,0.232,0.233,0.234,0.235]}]\n",
        "decntree_grid_search = RandomizedSearchCV(estimator = decntree,\n",
        "                           param_distributions = parameters,\n",
        "                           n_iter=10,\n",
        "                           cv = 10,\n",
        "                           n_jobs = -1)\n",
        "decntree_grid_search = decntree_grid_search.fit(X_train, y_train)\n",
        "decntree_best_score = decntree_grid_search.best_score_\n",
        "best_parameters = decntree_grid_search.best_params_\n",
        "print(\"Best Accuracy: {:.2f} %\".format(decntree_best_score*100))\n",
        "print(\"Best Parameters:\",best_parameters)"
      ],
      "metadata": {
        "colab": {
          "base_uri": "https://localhost:8080/"
        },
        "id": "Q8L9lTNoe78W",
        "outputId": "ffb00c22-8cf2-48f1-ce10-2adb687d797d"
      },
      "execution_count": 81,
      "outputs": [
        {
          "output_type": "stream",
          "name": "stdout",
          "text": [
            "Best Accuracy: 99.80 %\n",
            "Best Parameters: {'splitter': 'best', 'max_depth': 6.4, 'ccp_alpha': 0.232}\n"
          ]
        }
      ]
    },
    {
      "cell_type": "markdown",
      "source": [
        "## Root Mean Squared Error"
      ],
      "metadata": {
        "id": "ItrgEPzEflHt"
      }
    },
    {
      "cell_type": "code",
      "source": [
        "decntree_y_pred=decntree_grid_search.predict(X_test)\n",
        "decntree_y_pred"
      ],
      "metadata": {
        "colab": {
          "base_uri": "https://localhost:8080/"
        },
        "id": "HGAiolcGfozz",
        "outputId": "ed12faf4-74ed-4c41-8ab5-5fcc16b33faf"
      },
      "execution_count": 82,
      "outputs": [
        {
          "output_type": "execute_result",
          "data": {
            "text/plain": [
              "array([  92.12286531,   21.039     ,   76.13183056,  921.94346154,\n",
              "        244.28160465,  317.35888235,  127.35891525,    9.83575887,\n",
              "         61.45993684,   21.039     ,  317.35888235,  364.9203175 ,\n",
              "       1200.17444444,  391.45002069,  479.25070833,  317.35888235,\n",
              "        589.59196   ,   21.039     , 1456.775     , 2032.7784    ,\n",
              "         21.039     ,  203.89197049, 1016.97022222,  757.520375  ,\n",
              "          9.83575887,   21.039     ,  147.031     ,  203.89197049,\n",
              "         21.039     ,  223.50415625, 1401.116     ,   21.039     ,\n",
              "        127.35891525,   21.039     ,  847.4126087 ,  108.65704167,\n",
              "          9.83575887,  757.520375  ,  295.73896667,   44.63752083,\n",
              "          9.83575887, 1501.88844444,  479.25070833,  203.89197049,\n",
              "         21.039     ,  186.26714186,   21.039     , 1270.07390909,\n",
              "        554.1558913 ,   61.45993684,   21.039     ,  127.35891525,\n",
              "        108.65704167,  186.26714186,  223.50415625,  447.70353125,\n",
              "        186.26714186,   76.13183056, 4228.704     ,   76.13183056,\n",
              "          9.83575887,  519.84116286,    9.83575887,  167.7280125 ,\n",
              "        479.25070833,    9.83575887,  147.031     ,  167.7280125 ,\n",
              "         32.4565443 ,  416.99969583, 1401.116     ,    9.83575887,\n",
              "         44.63752083,  625.70985417,   44.63752083,   76.13183056,\n",
              "        317.35888235,   32.4565443 ,  391.45002069,   21.039     ,\n",
              "          9.83575887,   32.4565443 ,   21.039     ,  167.7280125 ,\n",
              "        665.60504348,    9.83575887,    9.83575887,  340.66163636,\n",
              "        127.35891525,  186.26714186,  317.35888235,  554.1558913 ,\n",
              "          9.83575887,  519.84116286,  186.26714186,  186.26714186,\n",
              "        167.7280125 ,   61.45993684,  203.89197049,  391.45002069,\n",
              "       1501.88844444,   21.039     ,  847.4126087 ,   76.13183056,\n",
              "       1270.07390909,  167.7280125 ,  519.84116286,  127.35891525,\n",
              "        847.4126087 ,   32.4565443 ,  186.26714186,   92.12286531,\n",
              "        147.031     ,   92.12286531,   44.63752083,  391.45002069,\n",
              "         21.039     ,  757.520375  , 1584.266     ,   21.039     ,\n",
              "        203.89197049,   21.039     ,    9.83575887,    9.83575887,\n",
              "          9.83575887,  127.35891525,  711.38863636,  295.73896667,\n",
              "        186.26714186,  223.50415625,  519.84116286,  244.28160465,\n",
              "        223.50415625,   76.13183056,   92.12286531,   76.13183056,\n",
              "         32.4565443 ,   32.4565443 ,  589.59196   ,   61.45993684,\n",
              "          9.83575887,   44.63752083,  340.66163636, 3083.43      ,\n",
              "         21.039     ,   61.45993684,  317.35888235,  203.89197049,\n",
              "        147.031     ,  416.99969583, 1584.266     ,  479.25070833,\n",
              "        108.65704167,  391.45002069,  391.45002069,  665.60504348,\n",
              "          9.83575887, 1456.775     , 1675.824     ,   44.63752083,\n",
              "        167.7280125 ,  186.26714186,  127.35891525,  589.59196   ,\n",
              "         61.45993684, 1270.07390909,  147.031     ,  244.28160465,\n",
              "          9.83575887,  711.38863636,  167.7280125 ,    9.83575887,\n",
              "        244.28160465,   32.4565443 ,  625.70985417,  167.7280125 ,\n",
              "        223.50415625,  793.31045455,   76.13183056,  108.65704167,\n",
              "         21.039     ,   32.4565443 ,  970.60612222,  186.26714186,\n",
              "        186.26714186,   61.45993684,  203.89197049,  317.35888235,\n",
              "        244.28160465,  167.7280125 ,  447.70353125,  244.28160465,\n",
              "        186.26714186,  186.26714186, 2032.7784    ,  888.95      ,\n",
              "        519.84116286,  364.9203175 , 1584.266     ,  244.28160465,\n",
              "         44.63752083,  127.35891525,  269.08465854,   32.4565443 ,\n",
              "         21.039     ,  127.35891525,  127.35891525,  519.84116286,\n",
              "        391.45002069,   32.4565443 ,  203.89197049,    9.83575887,\n",
              "         32.4565443 ,  269.08465854,  317.35888235,  269.08465854,\n",
              "        391.45002069,    9.83575887,  554.1558913 ,  364.9203175 ,\n",
              "         76.13183056,  970.60612222,  244.28160465,   92.12286531,\n",
              "        269.08465854,  589.59196   ,   21.039     , 1129.65127273,\n",
              "         44.63752083,  244.28160465,    9.83575887,   21.039     ,\n",
              "        127.35891525,   21.039     ,   44.63752083,   21.039     ,\n",
              "         61.45993684,  147.031     ,   21.039     ,  295.73896667,\n",
              "        295.73896667,   32.4565443 ,   21.039     ,   92.12286531,\n",
              "          9.83575887,  364.9203175 ,  203.89197049,  340.66163636,\n",
              "        167.7280125 ,  223.50415625,  589.59196   ,  108.65704167,\n",
              "          9.83575887,  108.65704167,  479.25070833,  203.89197049,\n",
              "         61.45993684,  793.31045455,  589.59196   ,  127.35891525,\n",
              "         21.039     ,  364.9203175 , 1401.116     ,   61.45993684,\n",
              "        340.66163636,  295.73896667,   32.4565443 ,   61.45993684,\n",
              "        416.99969583,  391.45002069,   76.13183056,  186.26714186,\n",
              "        223.50415625,  147.031     ,  391.45002069,  970.60612222,\n",
              "       1797.994     ,   44.63752083,  447.70353125,    9.83575887,\n",
              "        127.35891525,   76.13183056,  317.35888235,  295.73896667,\n",
              "         21.039     ,  364.9203175 ,   76.13183056,    9.83575887,\n",
              "         44.63752083,    9.83575887,   21.039     ,  391.45002069,\n",
              "          9.83575887,  888.95      ,   61.45993684,  223.50415625,\n",
              "          9.83575887,   44.63752083,  391.45002069,  519.84116286,\n",
              "        793.31045455,  147.031     ,  203.89197049,  147.031     ,\n",
              "         61.45993684,  295.73896667,  127.35891525,  711.38863636,\n",
              "         21.039     ,  589.59196   , 1200.17444444,   21.039     ,\n",
              "         32.4565443 ,   44.63752083,  186.26714186,  203.89197049,\n",
              "         21.039     ,  793.31045455,  888.95      ,  479.25070833,\n",
              "        317.35888235,  295.73896667,  244.28160465,  340.66163636,\n",
              "        554.1558913 ,  711.38863636,  147.031     ,    9.83575887,\n",
              "        167.7280125 ,  203.89197049,  108.65704167,  203.89197049,\n",
              "         21.039     ,  340.66163636,    9.83575887,   61.45993684,\n",
              "         92.12286531,    9.83575887,  589.59196   , 1584.266     ,\n",
              "       1797.994     ,    9.83575887,    9.83575887,  203.89197049,\n",
              "         44.63752083,   44.63752083,  317.35888235,  147.031     ,\n",
              "        223.50415625,  223.50415625,    9.83575887,    9.83575887,\n",
              "        108.65704167, 2859.701     ,    9.83575887,  711.38863636,\n",
              "        269.08465854,   92.12286531,  554.1558913 ,    9.83575887,\n",
              "         61.45993684,   76.13183056,  589.59196   ,    9.83575887,\n",
              "        186.26714186,    9.83575887,   32.4565443 , 1058.36061538,\n",
              "         32.4565443 , 4228.704     , 1058.36061538,    9.83575887,\n",
              "        888.95      ,  589.59196   ,  554.1558913 ,    9.83575887,\n",
              "        589.59196   ,    9.83575887,   32.4565443 ,  127.35891525,\n",
              "          9.83575887, 2565.448     ,  127.35891525,  416.99969583,\n",
              "        757.520375  ,  793.31045455,   21.039     ,  244.28160465,\n",
              "         76.13183056,  554.1558913 ,  108.65704167,   61.45993684,\n",
              "        711.38863636,  554.1558913 ,  127.35891525,  589.59196   ,\n",
              "         32.4565443 ,  244.28160465, 2272.1265    ,  127.35891525,\n",
              "        317.35888235,  921.94346154,    9.83575887,    9.83575887,\n",
              "         32.4565443 ,  519.84116286, 2859.701     ,   44.63752083,\n",
              "        244.28160465,  554.1558913 ,   32.4565443 ,  108.65704167,\n",
              "          9.83575887,  295.73896667,   44.63752083,  269.08465854,\n",
              "        317.35888235,   32.4565443 ,   21.039     ,   61.45993684,\n",
              "        391.45002069,   76.13183056,  244.28160465,  665.60504348,\n",
              "       1456.775     ])"
            ]
          },
          "metadata": {},
          "execution_count": 82
        }
      ]
    },
    {
      "cell_type": "code",
      "source": [
        "decntree_rmse = decntree_rmse= math.sqrt(sklearn.metrics.mean_squared_error(y_test,decntree_y_pred))  ## Root Mean Squared Error\n",
        "decntree_rmse"
      ],
      "metadata": {
        "colab": {
          "base_uri": "https://localhost:8080/"
        },
        "id": "4VlfJxATf1qG",
        "outputId": "15ed1eca-3520-49a2-9bae-b573be91de87"
      },
      "execution_count": 83,
      "outputs": [
        {
          "output_type": "execute_result",
          "data": {
            "text/plain": [
              "26.42028534145677"
            ]
          },
          "metadata": {},
          "execution_count": 83
        }
      ]
    },
    {
      "cell_type": "markdown",
      "source": [
        "There is a slight decrease in the accuracy of the model from a RMSE of 15.7 to 26.4 after perfoming some hyper parameter tuning."
      ],
      "metadata": {
        "id": "jYwZ24oigHRc"
      }
    },
    {
      "cell_type": "code",
      "source": [],
      "metadata": {
        "id": "bk4oKh-8gmNg"
      },
      "execution_count": null,
      "outputs": []
    }
  ]
}